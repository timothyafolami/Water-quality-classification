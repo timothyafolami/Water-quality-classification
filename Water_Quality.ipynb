{
  "nbformat": 4,
  "nbformat_minor": 0,
  "metadata": {
    "colab": {
      "provenance": []
    },
    "kernelspec": {
      "name": "python3",
      "display_name": "Python 3"
    },
    "language_info": {
      "name": "python"
    }
  },
  "cells": [
    {
      "cell_type": "markdown",
      "source": [
        "### Importing Libraries"
      ],
      "metadata": {
        "id": "Lqdn8F7qs7eQ"
      }
    },
    {
      "cell_type": "code",
      "execution_count": null,
      "metadata": {
        "colab": {
          "base_uri": "https://localhost:8080/"
        },
        "id": "6l9eS65MsE9o",
        "outputId": "85178dfa-b323-4fcb-bc62-29c816b7bd6f"
      },
      "outputs": [
        {
          "output_type": "stream",
          "name": "stdout",
          "text": [
            "Looking in indexes: https://pypi.org/simple, https://us-python.pkg.dev/colab-wheels/public/simple/\n",
            "Requirement already satisfied: catboost in /usr/local/lib/python3.7/dist-packages (1.0.6)\n",
            "Requirement already satisfied: numpy>=1.16.0 in /usr/local/lib/python3.7/dist-packages (from catboost) (1.21.6)\n",
            "Requirement already satisfied: matplotlib in /usr/local/lib/python3.7/dist-packages (from catboost) (3.2.2)\n",
            "Requirement already satisfied: plotly in /usr/local/lib/python3.7/dist-packages (from catboost) (5.5.0)\n",
            "Requirement already satisfied: six in /usr/local/lib/python3.7/dist-packages (from catboost) (1.15.0)\n",
            "Requirement already satisfied: scipy in /usr/local/lib/python3.7/dist-packages (from catboost) (1.7.3)\n",
            "Requirement already satisfied: graphviz in /usr/local/lib/python3.7/dist-packages (from catboost) (0.10.1)\n",
            "Requirement already satisfied: pandas>=0.24.0 in /usr/local/lib/python3.7/dist-packages (from catboost) (1.3.5)\n",
            "Requirement already satisfied: pytz>=2017.3 in /usr/local/lib/python3.7/dist-packages (from pandas>=0.24.0->catboost) (2022.1)\n",
            "Requirement already satisfied: python-dateutil>=2.7.3 in /usr/local/lib/python3.7/dist-packages (from pandas>=0.24.0->catboost) (2.8.2)\n",
            "Requirement already satisfied: cycler>=0.10 in /usr/local/lib/python3.7/dist-packages (from matplotlib->catboost) (0.11.0)\n",
            "Requirement already satisfied: pyparsing!=2.0.4,!=2.1.2,!=2.1.6,>=2.0.1 in /usr/local/lib/python3.7/dist-packages (from matplotlib->catboost) (3.0.9)\n",
            "Requirement already satisfied: kiwisolver>=1.0.1 in /usr/local/lib/python3.7/dist-packages (from matplotlib->catboost) (1.4.4)\n",
            "Requirement already satisfied: typing-extensions in /usr/local/lib/python3.7/dist-packages (from kiwisolver>=1.0.1->matplotlib->catboost) (4.1.1)\n",
            "Requirement already satisfied: tenacity>=6.2.0 in /usr/local/lib/python3.7/dist-packages (from plotly->catboost) (8.0.1)\n"
          ]
        }
      ],
      "source": [
        "import pandas as pd\n",
        "import numpy as np \n",
        "import matplotlib.pyplot as plt\n",
        "import seaborn as sns \n",
        "from sklearn.metrics import classification_report, accuracy_score, confusion_matrix, ConfusionMatrixDisplay\n",
        "from sklearn.linear_model import LogisticRegression\n",
        "from sklearn.preprocessing import StandardScaler\n",
        "from sklearn.model_selection import train_test_split\n",
        "from sklearn.ensemble import RandomForestClassifier, GradientBoostingClassifier\n",
        "\n",
        "!pip install catboost\n",
        "from catboost import CatBoostClassifier"
      ]
    },
    {
      "cell_type": "markdown",
      "source": [
        "### Loading and reading the dataset."
      ],
      "metadata": {
        "id": "TPaN3SQ5uO2X"
      }
    },
    {
      "cell_type": "code",
      "source": [
        "df = pd.read_csv('/content/waterQuality1.csv')\n",
        "df.head()"
      ],
      "metadata": {
        "colab": {
          "base_uri": "https://localhost:8080/",
          "height": 236
        },
        "id": "cd7DicEBuJZ7",
        "outputId": "1e484e93-3743-48c0-da90-b91e038a8c7a"
      },
      "execution_count": null,
      "outputs": [
        {
          "output_type": "execute_result",
          "data": {
            "text/plain": [
              "   aluminium ammonia  arsenic  barium  cadmium  chloramine  chromium  copper  \\\n",
              "0       1.65    9.08     0.04    2.85    0.007        0.35      0.83    0.17   \n",
              "1       2.32   21.16     0.01    3.31    0.002        5.28      0.68    0.66   \n",
              "2       1.01   14.02     0.04    0.58    0.008        4.24      0.53    0.02   \n",
              "3       1.36   11.33     0.04    2.96    0.001        7.23      0.03    1.66   \n",
              "4       0.92   24.33     0.03    0.20    0.006        2.67      0.69    0.57   \n",
              "\n",
              "   flouride  bacteria  ...   lead  nitrates  nitrites  mercury  perchlorate  \\\n",
              "0      0.05      0.20  ...  0.054     16.08      1.13    0.007        37.75   \n",
              "1      0.90      0.65  ...  0.100      2.01      1.93    0.003        32.26   \n",
              "2      0.99      0.05  ...  0.078     14.16      1.11    0.006        50.28   \n",
              "3      1.08      0.71  ...  0.016      1.41      1.29    0.004         9.12   \n",
              "4      0.61      0.13  ...  0.117      6.74      1.11    0.003        16.90   \n",
              "\n",
              "   radium  selenium  silver  uranium  is_safe  \n",
              "0    6.78      0.08    0.34     0.02        1  \n",
              "1    3.21      0.08    0.27     0.05        1  \n",
              "2    7.07      0.07    0.44     0.01        0  \n",
              "3    1.72      0.02    0.45     0.05        1  \n",
              "4    2.41      0.02    0.06     0.02        1  \n",
              "\n",
              "[5 rows x 21 columns]"
            ],
            "text/html": [
              "\n",
              "  <div id=\"df-c7174472-ded7-49cb-afa7-97384c43fac4\">\n",
              "    <div class=\"colab-df-container\">\n",
              "      <div>\n",
              "<style scoped>\n",
              "    .dataframe tbody tr th:only-of-type {\n",
              "        vertical-align: middle;\n",
              "    }\n",
              "\n",
              "    .dataframe tbody tr th {\n",
              "        vertical-align: top;\n",
              "    }\n",
              "\n",
              "    .dataframe thead th {\n",
              "        text-align: right;\n",
              "    }\n",
              "</style>\n",
              "<table border=\"1\" class=\"dataframe\">\n",
              "  <thead>\n",
              "    <tr style=\"text-align: right;\">\n",
              "      <th></th>\n",
              "      <th>aluminium</th>\n",
              "      <th>ammonia</th>\n",
              "      <th>arsenic</th>\n",
              "      <th>barium</th>\n",
              "      <th>cadmium</th>\n",
              "      <th>chloramine</th>\n",
              "      <th>chromium</th>\n",
              "      <th>copper</th>\n",
              "      <th>flouride</th>\n",
              "      <th>bacteria</th>\n",
              "      <th>...</th>\n",
              "      <th>lead</th>\n",
              "      <th>nitrates</th>\n",
              "      <th>nitrites</th>\n",
              "      <th>mercury</th>\n",
              "      <th>perchlorate</th>\n",
              "      <th>radium</th>\n",
              "      <th>selenium</th>\n",
              "      <th>silver</th>\n",
              "      <th>uranium</th>\n",
              "      <th>is_safe</th>\n",
              "    </tr>\n",
              "  </thead>\n",
              "  <tbody>\n",
              "    <tr>\n",
              "      <th>0</th>\n",
              "      <td>1.65</td>\n",
              "      <td>9.08</td>\n",
              "      <td>0.04</td>\n",
              "      <td>2.85</td>\n",
              "      <td>0.007</td>\n",
              "      <td>0.35</td>\n",
              "      <td>0.83</td>\n",
              "      <td>0.17</td>\n",
              "      <td>0.05</td>\n",
              "      <td>0.20</td>\n",
              "      <td>...</td>\n",
              "      <td>0.054</td>\n",
              "      <td>16.08</td>\n",
              "      <td>1.13</td>\n",
              "      <td>0.007</td>\n",
              "      <td>37.75</td>\n",
              "      <td>6.78</td>\n",
              "      <td>0.08</td>\n",
              "      <td>0.34</td>\n",
              "      <td>0.02</td>\n",
              "      <td>1</td>\n",
              "    </tr>\n",
              "    <tr>\n",
              "      <th>1</th>\n",
              "      <td>2.32</td>\n",
              "      <td>21.16</td>\n",
              "      <td>0.01</td>\n",
              "      <td>3.31</td>\n",
              "      <td>0.002</td>\n",
              "      <td>5.28</td>\n",
              "      <td>0.68</td>\n",
              "      <td>0.66</td>\n",
              "      <td>0.90</td>\n",
              "      <td>0.65</td>\n",
              "      <td>...</td>\n",
              "      <td>0.100</td>\n",
              "      <td>2.01</td>\n",
              "      <td>1.93</td>\n",
              "      <td>0.003</td>\n",
              "      <td>32.26</td>\n",
              "      <td>3.21</td>\n",
              "      <td>0.08</td>\n",
              "      <td>0.27</td>\n",
              "      <td>0.05</td>\n",
              "      <td>1</td>\n",
              "    </tr>\n",
              "    <tr>\n",
              "      <th>2</th>\n",
              "      <td>1.01</td>\n",
              "      <td>14.02</td>\n",
              "      <td>0.04</td>\n",
              "      <td>0.58</td>\n",
              "      <td>0.008</td>\n",
              "      <td>4.24</td>\n",
              "      <td>0.53</td>\n",
              "      <td>0.02</td>\n",
              "      <td>0.99</td>\n",
              "      <td>0.05</td>\n",
              "      <td>...</td>\n",
              "      <td>0.078</td>\n",
              "      <td>14.16</td>\n",
              "      <td>1.11</td>\n",
              "      <td>0.006</td>\n",
              "      <td>50.28</td>\n",
              "      <td>7.07</td>\n",
              "      <td>0.07</td>\n",
              "      <td>0.44</td>\n",
              "      <td>0.01</td>\n",
              "      <td>0</td>\n",
              "    </tr>\n",
              "    <tr>\n",
              "      <th>3</th>\n",
              "      <td>1.36</td>\n",
              "      <td>11.33</td>\n",
              "      <td>0.04</td>\n",
              "      <td>2.96</td>\n",
              "      <td>0.001</td>\n",
              "      <td>7.23</td>\n",
              "      <td>0.03</td>\n",
              "      <td>1.66</td>\n",
              "      <td>1.08</td>\n",
              "      <td>0.71</td>\n",
              "      <td>...</td>\n",
              "      <td>0.016</td>\n",
              "      <td>1.41</td>\n",
              "      <td>1.29</td>\n",
              "      <td>0.004</td>\n",
              "      <td>9.12</td>\n",
              "      <td>1.72</td>\n",
              "      <td>0.02</td>\n",
              "      <td>0.45</td>\n",
              "      <td>0.05</td>\n",
              "      <td>1</td>\n",
              "    </tr>\n",
              "    <tr>\n",
              "      <th>4</th>\n",
              "      <td>0.92</td>\n",
              "      <td>24.33</td>\n",
              "      <td>0.03</td>\n",
              "      <td>0.20</td>\n",
              "      <td>0.006</td>\n",
              "      <td>2.67</td>\n",
              "      <td>0.69</td>\n",
              "      <td>0.57</td>\n",
              "      <td>0.61</td>\n",
              "      <td>0.13</td>\n",
              "      <td>...</td>\n",
              "      <td>0.117</td>\n",
              "      <td>6.74</td>\n",
              "      <td>1.11</td>\n",
              "      <td>0.003</td>\n",
              "      <td>16.90</td>\n",
              "      <td>2.41</td>\n",
              "      <td>0.02</td>\n",
              "      <td>0.06</td>\n",
              "      <td>0.02</td>\n",
              "      <td>1</td>\n",
              "    </tr>\n",
              "  </tbody>\n",
              "</table>\n",
              "<p>5 rows × 21 columns</p>\n",
              "</div>\n",
              "      <button class=\"colab-df-convert\" onclick=\"convertToInteractive('df-c7174472-ded7-49cb-afa7-97384c43fac4')\"\n",
              "              title=\"Convert this dataframe to an interactive table.\"\n",
              "              style=\"display:none;\">\n",
              "        \n",
              "  <svg xmlns=\"http://www.w3.org/2000/svg\" height=\"24px\"viewBox=\"0 0 24 24\"\n",
              "       width=\"24px\">\n",
              "    <path d=\"M0 0h24v24H0V0z\" fill=\"none\"/>\n",
              "    <path d=\"M18.56 5.44l.94 2.06.94-2.06 2.06-.94-2.06-.94-.94-2.06-.94 2.06-2.06.94zm-11 1L8.5 8.5l.94-2.06 2.06-.94-2.06-.94L8.5 2.5l-.94 2.06-2.06.94zm10 10l.94 2.06.94-2.06 2.06-.94-2.06-.94-.94-2.06-.94 2.06-2.06.94z\"/><path d=\"M17.41 7.96l-1.37-1.37c-.4-.4-.92-.59-1.43-.59-.52 0-1.04.2-1.43.59L10.3 9.45l-7.72 7.72c-.78.78-.78 2.05 0 2.83L4 21.41c.39.39.9.59 1.41.59.51 0 1.02-.2 1.41-.59l7.78-7.78 2.81-2.81c.8-.78.8-2.07 0-2.86zM5.41 20L4 18.59l7.72-7.72 1.47 1.35L5.41 20z\"/>\n",
              "  </svg>\n",
              "      </button>\n",
              "      \n",
              "  <style>\n",
              "    .colab-df-container {\n",
              "      display:flex;\n",
              "      flex-wrap:wrap;\n",
              "      gap: 12px;\n",
              "    }\n",
              "\n",
              "    .colab-df-convert {\n",
              "      background-color: #E8F0FE;\n",
              "      border: none;\n",
              "      border-radius: 50%;\n",
              "      cursor: pointer;\n",
              "      display: none;\n",
              "      fill: #1967D2;\n",
              "      height: 32px;\n",
              "      padding: 0 0 0 0;\n",
              "      width: 32px;\n",
              "    }\n",
              "\n",
              "    .colab-df-convert:hover {\n",
              "      background-color: #E2EBFA;\n",
              "      box-shadow: 0px 1px 2px rgba(60, 64, 67, 0.3), 0px 1px 3px 1px rgba(60, 64, 67, 0.15);\n",
              "      fill: #174EA6;\n",
              "    }\n",
              "\n",
              "    [theme=dark] .colab-df-convert {\n",
              "      background-color: #3B4455;\n",
              "      fill: #D2E3FC;\n",
              "    }\n",
              "\n",
              "    [theme=dark] .colab-df-convert:hover {\n",
              "      background-color: #434B5C;\n",
              "      box-shadow: 0px 1px 3px 1px rgba(0, 0, 0, 0.15);\n",
              "      filter: drop-shadow(0px 1px 2px rgba(0, 0, 0, 0.3));\n",
              "      fill: #FFFFFF;\n",
              "    }\n",
              "  </style>\n",
              "\n",
              "      <script>\n",
              "        const buttonEl =\n",
              "          document.querySelector('#df-c7174472-ded7-49cb-afa7-97384c43fac4 button.colab-df-convert');\n",
              "        buttonEl.style.display =\n",
              "          google.colab.kernel.accessAllowed ? 'block' : 'none';\n",
              "\n",
              "        async function convertToInteractive(key) {\n",
              "          const element = document.querySelector('#df-c7174472-ded7-49cb-afa7-97384c43fac4');\n",
              "          const dataTable =\n",
              "            await google.colab.kernel.invokeFunction('convertToInteractive',\n",
              "                                                     [key], {});\n",
              "          if (!dataTable) return;\n",
              "\n",
              "          const docLinkHtml = 'Like what you see? Visit the ' +\n",
              "            '<a target=\"_blank\" href=https://colab.research.google.com/notebooks/data_table.ipynb>data table notebook</a>'\n",
              "            + ' to learn more about interactive tables.';\n",
              "          element.innerHTML = '';\n",
              "          dataTable['output_type'] = 'display_data';\n",
              "          await google.colab.output.renderOutput(dataTable, element);\n",
              "          const docLink = document.createElement('div');\n",
              "          docLink.innerHTML = docLinkHtml;\n",
              "          element.appendChild(docLink);\n",
              "        }\n",
              "      </script>\n",
              "    </div>\n",
              "  </div>\n",
              "  "
            ]
          },
          "metadata": {},
          "execution_count": 27
        }
      ]
    },
    {
      "cell_type": "code",
      "source": [
        "df.describe()"
      ],
      "metadata": {
        "colab": {
          "base_uri": "https://localhost:8080/",
          "height": 364
        },
        "id": "Fwf7u-DrubHW",
        "outputId": "e2d52b3d-e70d-47bc-996e-93026744f0f0"
      },
      "execution_count": null,
      "outputs": [
        {
          "output_type": "execute_result",
          "data": {
            "text/plain": [
              "         aluminium      arsenic       barium      cadmium   chloramine  \\\n",
              "count  7999.000000  7999.000000  7999.000000  7999.000000  7999.000000   \n",
              "mean      0.666158     0.161445     1.567715     0.042806     2.176831   \n",
              "std       1.265145     0.252590     1.216091     0.036049     2.567027   \n",
              "min       0.000000     0.000000     0.000000     0.000000     0.000000   \n",
              "25%       0.040000     0.030000     0.560000     0.008000     0.100000   \n",
              "50%       0.070000     0.050000     1.190000     0.040000     0.530000   \n",
              "75%       0.280000     0.100000     2.480000     0.070000     4.240000   \n",
              "max       5.050000     1.050000     4.940000     0.130000     8.680000   \n",
              "\n",
              "          chromium       copper     flouride     bacteria      viruses  \\\n",
              "count  7999.000000  7999.000000  7999.000000  7999.000000  7999.000000   \n",
              "mean      0.247226     0.805857     0.771565     0.319665     0.328583   \n",
              "std       0.270640     0.653539     0.435373     0.329485     0.378096   \n",
              "min       0.000000     0.000000     0.000000     0.000000     0.000000   \n",
              "25%       0.050000     0.090000     0.405000     0.000000     0.002000   \n",
              "50%       0.090000     0.750000     0.770000     0.220000     0.008000   \n",
              "75%       0.440000     1.390000     1.160000     0.610000     0.700000   \n",
              "max       0.900000     2.000000     1.500000     1.000000     1.000000   \n",
              "\n",
              "              lead     nitrates     nitrites      mercury  perchlorate  \\\n",
              "count  7999.000000  7999.000000  7999.000000  7999.000000  7999.000000   \n",
              "mean      0.099450     9.818822     1.329961     0.005194    16.460299   \n",
              "std       0.058172     5.541331     0.573219     0.002967    17.687474   \n",
              "min       0.000000     0.000000     0.000000     0.000000     0.000000   \n",
              "25%       0.048000     5.000000     1.000000     0.003000     2.170000   \n",
              "50%       0.102000     9.930000     1.420000     0.005000     7.740000   \n",
              "75%       0.151000    14.610000     1.760000     0.008000    29.480000   \n",
              "max       0.200000    19.830000     2.930000     0.010000    60.010000   \n",
              "\n",
              "            radium     selenium       silver      uranium  \n",
              "count  7999.000000  7999.000000  7999.000000  7999.000000  \n",
              "mean      2.920548     0.049685     0.147781     0.044673  \n",
              "std       2.323009     0.028770     0.143551     0.026904  \n",
              "min       0.000000     0.000000     0.000000     0.000000  \n",
              "25%       0.820000     0.020000     0.040000     0.020000  \n",
              "50%       2.410000     0.050000     0.080000     0.050000  \n",
              "75%       4.670000     0.070000     0.240000     0.070000  \n",
              "max       7.990000     0.100000     0.500000     0.090000  "
            ],
            "text/html": [
              "\n",
              "  <div id=\"df-28ca6e64-6335-42ef-9b6b-cc2988ae1e07\">\n",
              "    <div class=\"colab-df-container\">\n",
              "      <div>\n",
              "<style scoped>\n",
              "    .dataframe tbody tr th:only-of-type {\n",
              "        vertical-align: middle;\n",
              "    }\n",
              "\n",
              "    .dataframe tbody tr th {\n",
              "        vertical-align: top;\n",
              "    }\n",
              "\n",
              "    .dataframe thead th {\n",
              "        text-align: right;\n",
              "    }\n",
              "</style>\n",
              "<table border=\"1\" class=\"dataframe\">\n",
              "  <thead>\n",
              "    <tr style=\"text-align: right;\">\n",
              "      <th></th>\n",
              "      <th>aluminium</th>\n",
              "      <th>arsenic</th>\n",
              "      <th>barium</th>\n",
              "      <th>cadmium</th>\n",
              "      <th>chloramine</th>\n",
              "      <th>chromium</th>\n",
              "      <th>copper</th>\n",
              "      <th>flouride</th>\n",
              "      <th>bacteria</th>\n",
              "      <th>viruses</th>\n",
              "      <th>lead</th>\n",
              "      <th>nitrates</th>\n",
              "      <th>nitrites</th>\n",
              "      <th>mercury</th>\n",
              "      <th>perchlorate</th>\n",
              "      <th>radium</th>\n",
              "      <th>selenium</th>\n",
              "      <th>silver</th>\n",
              "      <th>uranium</th>\n",
              "    </tr>\n",
              "  </thead>\n",
              "  <tbody>\n",
              "    <tr>\n",
              "      <th>count</th>\n",
              "      <td>7999.000000</td>\n",
              "      <td>7999.000000</td>\n",
              "      <td>7999.000000</td>\n",
              "      <td>7999.000000</td>\n",
              "      <td>7999.000000</td>\n",
              "      <td>7999.000000</td>\n",
              "      <td>7999.000000</td>\n",
              "      <td>7999.000000</td>\n",
              "      <td>7999.000000</td>\n",
              "      <td>7999.000000</td>\n",
              "      <td>7999.000000</td>\n",
              "      <td>7999.000000</td>\n",
              "      <td>7999.000000</td>\n",
              "      <td>7999.000000</td>\n",
              "      <td>7999.000000</td>\n",
              "      <td>7999.000000</td>\n",
              "      <td>7999.000000</td>\n",
              "      <td>7999.000000</td>\n",
              "      <td>7999.000000</td>\n",
              "    </tr>\n",
              "    <tr>\n",
              "      <th>mean</th>\n",
              "      <td>0.666158</td>\n",
              "      <td>0.161445</td>\n",
              "      <td>1.567715</td>\n",
              "      <td>0.042806</td>\n",
              "      <td>2.176831</td>\n",
              "      <td>0.247226</td>\n",
              "      <td>0.805857</td>\n",
              "      <td>0.771565</td>\n",
              "      <td>0.319665</td>\n",
              "      <td>0.328583</td>\n",
              "      <td>0.099450</td>\n",
              "      <td>9.818822</td>\n",
              "      <td>1.329961</td>\n",
              "      <td>0.005194</td>\n",
              "      <td>16.460299</td>\n",
              "      <td>2.920548</td>\n",
              "      <td>0.049685</td>\n",
              "      <td>0.147781</td>\n",
              "      <td>0.044673</td>\n",
              "    </tr>\n",
              "    <tr>\n",
              "      <th>std</th>\n",
              "      <td>1.265145</td>\n",
              "      <td>0.252590</td>\n",
              "      <td>1.216091</td>\n",
              "      <td>0.036049</td>\n",
              "      <td>2.567027</td>\n",
              "      <td>0.270640</td>\n",
              "      <td>0.653539</td>\n",
              "      <td>0.435373</td>\n",
              "      <td>0.329485</td>\n",
              "      <td>0.378096</td>\n",
              "      <td>0.058172</td>\n",
              "      <td>5.541331</td>\n",
              "      <td>0.573219</td>\n",
              "      <td>0.002967</td>\n",
              "      <td>17.687474</td>\n",
              "      <td>2.323009</td>\n",
              "      <td>0.028770</td>\n",
              "      <td>0.143551</td>\n",
              "      <td>0.026904</td>\n",
              "    </tr>\n",
              "    <tr>\n",
              "      <th>min</th>\n",
              "      <td>0.000000</td>\n",
              "      <td>0.000000</td>\n",
              "      <td>0.000000</td>\n",
              "      <td>0.000000</td>\n",
              "      <td>0.000000</td>\n",
              "      <td>0.000000</td>\n",
              "      <td>0.000000</td>\n",
              "      <td>0.000000</td>\n",
              "      <td>0.000000</td>\n",
              "      <td>0.000000</td>\n",
              "      <td>0.000000</td>\n",
              "      <td>0.000000</td>\n",
              "      <td>0.000000</td>\n",
              "      <td>0.000000</td>\n",
              "      <td>0.000000</td>\n",
              "      <td>0.000000</td>\n",
              "      <td>0.000000</td>\n",
              "      <td>0.000000</td>\n",
              "      <td>0.000000</td>\n",
              "    </tr>\n",
              "    <tr>\n",
              "      <th>25%</th>\n",
              "      <td>0.040000</td>\n",
              "      <td>0.030000</td>\n",
              "      <td>0.560000</td>\n",
              "      <td>0.008000</td>\n",
              "      <td>0.100000</td>\n",
              "      <td>0.050000</td>\n",
              "      <td>0.090000</td>\n",
              "      <td>0.405000</td>\n",
              "      <td>0.000000</td>\n",
              "      <td>0.002000</td>\n",
              "      <td>0.048000</td>\n",
              "      <td>5.000000</td>\n",
              "      <td>1.000000</td>\n",
              "      <td>0.003000</td>\n",
              "      <td>2.170000</td>\n",
              "      <td>0.820000</td>\n",
              "      <td>0.020000</td>\n",
              "      <td>0.040000</td>\n",
              "      <td>0.020000</td>\n",
              "    </tr>\n",
              "    <tr>\n",
              "      <th>50%</th>\n",
              "      <td>0.070000</td>\n",
              "      <td>0.050000</td>\n",
              "      <td>1.190000</td>\n",
              "      <td>0.040000</td>\n",
              "      <td>0.530000</td>\n",
              "      <td>0.090000</td>\n",
              "      <td>0.750000</td>\n",
              "      <td>0.770000</td>\n",
              "      <td>0.220000</td>\n",
              "      <td>0.008000</td>\n",
              "      <td>0.102000</td>\n",
              "      <td>9.930000</td>\n",
              "      <td>1.420000</td>\n",
              "      <td>0.005000</td>\n",
              "      <td>7.740000</td>\n",
              "      <td>2.410000</td>\n",
              "      <td>0.050000</td>\n",
              "      <td>0.080000</td>\n",
              "      <td>0.050000</td>\n",
              "    </tr>\n",
              "    <tr>\n",
              "      <th>75%</th>\n",
              "      <td>0.280000</td>\n",
              "      <td>0.100000</td>\n",
              "      <td>2.480000</td>\n",
              "      <td>0.070000</td>\n",
              "      <td>4.240000</td>\n",
              "      <td>0.440000</td>\n",
              "      <td>1.390000</td>\n",
              "      <td>1.160000</td>\n",
              "      <td>0.610000</td>\n",
              "      <td>0.700000</td>\n",
              "      <td>0.151000</td>\n",
              "      <td>14.610000</td>\n",
              "      <td>1.760000</td>\n",
              "      <td>0.008000</td>\n",
              "      <td>29.480000</td>\n",
              "      <td>4.670000</td>\n",
              "      <td>0.070000</td>\n",
              "      <td>0.240000</td>\n",
              "      <td>0.070000</td>\n",
              "    </tr>\n",
              "    <tr>\n",
              "      <th>max</th>\n",
              "      <td>5.050000</td>\n",
              "      <td>1.050000</td>\n",
              "      <td>4.940000</td>\n",
              "      <td>0.130000</td>\n",
              "      <td>8.680000</td>\n",
              "      <td>0.900000</td>\n",
              "      <td>2.000000</td>\n",
              "      <td>1.500000</td>\n",
              "      <td>1.000000</td>\n",
              "      <td>1.000000</td>\n",
              "      <td>0.200000</td>\n",
              "      <td>19.830000</td>\n",
              "      <td>2.930000</td>\n",
              "      <td>0.010000</td>\n",
              "      <td>60.010000</td>\n",
              "      <td>7.990000</td>\n",
              "      <td>0.100000</td>\n",
              "      <td>0.500000</td>\n",
              "      <td>0.090000</td>\n",
              "    </tr>\n",
              "  </tbody>\n",
              "</table>\n",
              "</div>\n",
              "      <button class=\"colab-df-convert\" onclick=\"convertToInteractive('df-28ca6e64-6335-42ef-9b6b-cc2988ae1e07')\"\n",
              "              title=\"Convert this dataframe to an interactive table.\"\n",
              "              style=\"display:none;\">\n",
              "        \n",
              "  <svg xmlns=\"http://www.w3.org/2000/svg\" height=\"24px\"viewBox=\"0 0 24 24\"\n",
              "       width=\"24px\">\n",
              "    <path d=\"M0 0h24v24H0V0z\" fill=\"none\"/>\n",
              "    <path d=\"M18.56 5.44l.94 2.06.94-2.06 2.06-.94-2.06-.94-.94-2.06-.94 2.06-2.06.94zm-11 1L8.5 8.5l.94-2.06 2.06-.94-2.06-.94L8.5 2.5l-.94 2.06-2.06.94zm10 10l.94 2.06.94-2.06 2.06-.94-2.06-.94-.94-2.06-.94 2.06-2.06.94z\"/><path d=\"M17.41 7.96l-1.37-1.37c-.4-.4-.92-.59-1.43-.59-.52 0-1.04.2-1.43.59L10.3 9.45l-7.72 7.72c-.78.78-.78 2.05 0 2.83L4 21.41c.39.39.9.59 1.41.59.51 0 1.02-.2 1.41-.59l7.78-7.78 2.81-2.81c.8-.78.8-2.07 0-2.86zM5.41 20L4 18.59l7.72-7.72 1.47 1.35L5.41 20z\"/>\n",
              "  </svg>\n",
              "      </button>\n",
              "      \n",
              "  <style>\n",
              "    .colab-df-container {\n",
              "      display:flex;\n",
              "      flex-wrap:wrap;\n",
              "      gap: 12px;\n",
              "    }\n",
              "\n",
              "    .colab-df-convert {\n",
              "      background-color: #E8F0FE;\n",
              "      border: none;\n",
              "      border-radius: 50%;\n",
              "      cursor: pointer;\n",
              "      display: none;\n",
              "      fill: #1967D2;\n",
              "      height: 32px;\n",
              "      padding: 0 0 0 0;\n",
              "      width: 32px;\n",
              "    }\n",
              "\n",
              "    .colab-df-convert:hover {\n",
              "      background-color: #E2EBFA;\n",
              "      box-shadow: 0px 1px 2px rgba(60, 64, 67, 0.3), 0px 1px 3px 1px rgba(60, 64, 67, 0.15);\n",
              "      fill: #174EA6;\n",
              "    }\n",
              "\n",
              "    [theme=dark] .colab-df-convert {\n",
              "      background-color: #3B4455;\n",
              "      fill: #D2E3FC;\n",
              "    }\n",
              "\n",
              "    [theme=dark] .colab-df-convert:hover {\n",
              "      background-color: #434B5C;\n",
              "      box-shadow: 0px 1px 3px 1px rgba(0, 0, 0, 0.15);\n",
              "      filter: drop-shadow(0px 1px 2px rgba(0, 0, 0, 0.3));\n",
              "      fill: #FFFFFF;\n",
              "    }\n",
              "  </style>\n",
              "\n",
              "      <script>\n",
              "        const buttonEl =\n",
              "          document.querySelector('#df-28ca6e64-6335-42ef-9b6b-cc2988ae1e07 button.colab-df-convert');\n",
              "        buttonEl.style.display =\n",
              "          google.colab.kernel.accessAllowed ? 'block' : 'none';\n",
              "\n",
              "        async function convertToInteractive(key) {\n",
              "          const element = document.querySelector('#df-28ca6e64-6335-42ef-9b6b-cc2988ae1e07');\n",
              "          const dataTable =\n",
              "            await google.colab.kernel.invokeFunction('convertToInteractive',\n",
              "                                                     [key], {});\n",
              "          if (!dataTable) return;\n",
              "\n",
              "          const docLinkHtml = 'Like what you see? Visit the ' +\n",
              "            '<a target=\"_blank\" href=https://colab.research.google.com/notebooks/data_table.ipynb>data table notebook</a>'\n",
              "            + ' to learn more about interactive tables.';\n",
              "          element.innerHTML = '';\n",
              "          dataTable['output_type'] = 'display_data';\n",
              "          await google.colab.output.renderOutput(dataTable, element);\n",
              "          const docLink = document.createElement('div');\n",
              "          docLink.innerHTML = docLinkHtml;\n",
              "          element.appendChild(docLink);\n",
              "        }\n",
              "      </script>\n",
              "    </div>\n",
              "  </div>\n",
              "  "
            ]
          },
          "metadata": {},
          "execution_count": 28
        }
      ]
    },
    {
      "cell_type": "code",
      "source": [
        "df.info()"
      ],
      "metadata": {
        "colab": {
          "base_uri": "https://localhost:8080/"
        },
        "id": "nNuTaig6ufjb",
        "outputId": "40e9814f-6922-4afd-9882-2c1faf2891d2"
      },
      "execution_count": null,
      "outputs": [
        {
          "output_type": "stream",
          "name": "stdout",
          "text": [
            "<class 'pandas.core.frame.DataFrame'>\n",
            "RangeIndex: 7999 entries, 0 to 7998\n",
            "Data columns (total 21 columns):\n",
            " #   Column       Non-Null Count  Dtype  \n",
            "---  ------       --------------  -----  \n",
            " 0   aluminium    7999 non-null   float64\n",
            " 1   ammonia      7999 non-null   object \n",
            " 2   arsenic      7999 non-null   float64\n",
            " 3   barium       7999 non-null   float64\n",
            " 4   cadmium      7999 non-null   float64\n",
            " 5   chloramine   7999 non-null   float64\n",
            " 6   chromium     7999 non-null   float64\n",
            " 7   copper       7999 non-null   float64\n",
            " 8   flouride     7999 non-null   float64\n",
            " 9   bacteria     7999 non-null   float64\n",
            " 10  viruses      7999 non-null   float64\n",
            " 11  lead         7999 non-null   float64\n",
            " 12  nitrates     7999 non-null   float64\n",
            " 13  nitrites     7999 non-null   float64\n",
            " 14  mercury      7999 non-null   float64\n",
            " 15  perchlorate  7999 non-null   float64\n",
            " 16  radium       7999 non-null   float64\n",
            " 17  selenium     7999 non-null   float64\n",
            " 18  silver       7999 non-null   float64\n",
            " 19  uranium      7999 non-null   float64\n",
            " 20  is_safe      7999 non-null   object \n",
            "dtypes: float64(19), object(2)\n",
            "memory usage: 1.3+ MB\n"
          ]
        }
      ]
    },
    {
      "cell_type": "code",
      "source": [
        "# Looking at the target variable\n",
        "df['is_safe'].value_counts()"
      ],
      "metadata": {
        "colab": {
          "base_uri": "https://localhost:8080/"
        },
        "id": "9N6VafpmukwU",
        "outputId": "03b99c24-3478-4860-ebf8-436e534f60f8"
      },
      "execution_count": null,
      "outputs": [
        {
          "output_type": "execute_result",
          "data": {
            "text/plain": [
              "0        7084\n",
              "1         912\n",
              "#NUM!       3\n",
              "Name: is_safe, dtype: int64"
            ]
          },
          "metadata": {},
          "execution_count": 30
        }
      ]
    },
    {
      "cell_type": "code",
      "source": [
        "df.shape"
      ],
      "metadata": {
        "colab": {
          "base_uri": "https://localhost:8080/"
        },
        "id": "RknbXuFJuv5M",
        "outputId": "909a2e5d-3f2c-4749-9209-05b5ecc41e73"
      },
      "execution_count": null,
      "outputs": [
        {
          "output_type": "execute_result",
          "data": {
            "text/plain": [
              "(7999, 21)"
            ]
          },
          "metadata": {},
          "execution_count": 31
        }
      ]
    },
    {
      "cell_type": "code",
      "source": [
        "remove = df.index[df['is_safe']=='#NUM!'].tolist()\n",
        "remove"
      ],
      "metadata": {
        "colab": {
          "base_uri": "https://localhost:8080/"
        },
        "id": "HRFczucFvBAd",
        "outputId": "f3ffc2a4-f15c-4ab8-ab6d-37048617c29d"
      },
      "execution_count": null,
      "outputs": [
        {
          "output_type": "execute_result",
          "data": {
            "text/plain": [
              "[7551, 7568, 7890]"
            ]
          },
          "metadata": {},
          "execution_count": 32
        }
      ]
    },
    {
      "cell_type": "code",
      "source": [
        "df.drop([7551, 7568, 7890], axis=0, inplace=True)\n",
        "df.shape"
      ],
      "metadata": {
        "colab": {
          "base_uri": "https://localhost:8080/"
        },
        "id": "F0s-YoL-vbyH",
        "outputId": "7098ec79-ace9-449f-f8f3-433e115747a2"
      },
      "execution_count": null,
      "outputs": [
        {
          "output_type": "execute_result",
          "data": {
            "text/plain": [
              "(7996, 21)"
            ]
          },
          "metadata": {},
          "execution_count": 33
        }
      ]
    },
    {
      "cell_type": "code",
      "source": [
        "df['is_safe'] = df['is_safe'].apply(lambda x: int(x))\n",
        "df.info()"
      ],
      "metadata": {
        "colab": {
          "base_uri": "https://localhost:8080/"
        },
        "id": "EhEKKFIuxZu3",
        "outputId": "8e9b069c-7fac-4459-8c7f-1ee9cfa17fa1"
      },
      "execution_count": null,
      "outputs": [
        {
          "output_type": "stream",
          "name": "stdout",
          "text": [
            "<class 'pandas.core.frame.DataFrame'>\n",
            "Int64Index: 7996 entries, 0 to 7998\n",
            "Data columns (total 21 columns):\n",
            " #   Column       Non-Null Count  Dtype  \n",
            "---  ------       --------------  -----  \n",
            " 0   aluminium    7996 non-null   float64\n",
            " 1   ammonia      7996 non-null   object \n",
            " 2   arsenic      7996 non-null   float64\n",
            " 3   barium       7996 non-null   float64\n",
            " 4   cadmium      7996 non-null   float64\n",
            " 5   chloramine   7996 non-null   float64\n",
            " 6   chromium     7996 non-null   float64\n",
            " 7   copper       7996 non-null   float64\n",
            " 8   flouride     7996 non-null   float64\n",
            " 9   bacteria     7996 non-null   float64\n",
            " 10  viruses      7996 non-null   float64\n",
            " 11  lead         7996 non-null   float64\n",
            " 12  nitrates     7996 non-null   float64\n",
            " 13  nitrites     7996 non-null   float64\n",
            " 14  mercury      7996 non-null   float64\n",
            " 15  perchlorate  7996 non-null   float64\n",
            " 16  radium       7996 non-null   float64\n",
            " 17  selenium     7996 non-null   float64\n",
            " 18  silver       7996 non-null   float64\n",
            " 19  uranium      7996 non-null   float64\n",
            " 20  is_safe      7996 non-null   int64  \n",
            "dtypes: float64(19), int64(1), object(1)\n",
            "memory usage: 1.3+ MB\n"
          ]
        }
      ]
    },
    {
      "cell_type": "code",
      "source": [
        "df.ammonia = df.ammonia.apply(lambda x: float(x))\n",
        "df.info()"
      ],
      "metadata": {
        "colab": {
          "base_uri": "https://localhost:8080/"
        },
        "id": "Vs5E9NbKxsGp",
        "outputId": "ef9418b9-c67e-4c02-8150-3e5281c6fa06"
      },
      "execution_count": null,
      "outputs": [
        {
          "output_type": "stream",
          "name": "stdout",
          "text": [
            "<class 'pandas.core.frame.DataFrame'>\n",
            "Int64Index: 7996 entries, 0 to 7998\n",
            "Data columns (total 21 columns):\n",
            " #   Column       Non-Null Count  Dtype  \n",
            "---  ------       --------------  -----  \n",
            " 0   aluminium    7996 non-null   float64\n",
            " 1   ammonia      7996 non-null   float64\n",
            " 2   arsenic      7996 non-null   float64\n",
            " 3   barium       7996 non-null   float64\n",
            " 4   cadmium      7996 non-null   float64\n",
            " 5   chloramine   7996 non-null   float64\n",
            " 6   chromium     7996 non-null   float64\n",
            " 7   copper       7996 non-null   float64\n",
            " 8   flouride     7996 non-null   float64\n",
            " 9   bacteria     7996 non-null   float64\n",
            " 10  viruses      7996 non-null   float64\n",
            " 11  lead         7996 non-null   float64\n",
            " 12  nitrates     7996 non-null   float64\n",
            " 13  nitrites     7996 non-null   float64\n",
            " 14  mercury      7996 non-null   float64\n",
            " 15  perchlorate  7996 non-null   float64\n",
            " 16  radium       7996 non-null   float64\n",
            " 17  selenium     7996 non-null   float64\n",
            " 18  silver       7996 non-null   float64\n",
            " 19  uranium      7996 non-null   float64\n",
            " 20  is_safe      7996 non-null   int64  \n",
            "dtypes: float64(20), int64(1)\n",
            "memory usage: 1.3 MB\n"
          ]
        }
      ]
    },
    {
      "cell_type": "code",
      "source": [
        "df.isnull().sum()"
      ],
      "metadata": {
        "colab": {
          "base_uri": "https://localhost:8080/"
        },
        "id": "aH7ddtx_x1zf",
        "outputId": "47d2e6f2-64c3-4bf0-d940-b09b2b7ba14b"
      },
      "execution_count": null,
      "outputs": [
        {
          "output_type": "execute_result",
          "data": {
            "text/plain": [
              "aluminium      0\n",
              "ammonia        0\n",
              "arsenic        0\n",
              "barium         0\n",
              "cadmium        0\n",
              "chloramine     0\n",
              "chromium       0\n",
              "copper         0\n",
              "flouride       0\n",
              "bacteria       0\n",
              "viruses        0\n",
              "lead           0\n",
              "nitrates       0\n",
              "nitrites       0\n",
              "mercury        0\n",
              "perchlorate    0\n",
              "radium         0\n",
              "selenium       0\n",
              "silver         0\n",
              "uranium        0\n",
              "is_safe        0\n",
              "dtype: int64"
            ]
          },
          "metadata": {},
          "execution_count": 36
        }
      ]
    },
    {
      "cell_type": "code",
      "source": [
        "df.head()"
      ],
      "metadata": {
        "colab": {
          "base_uri": "https://localhost:8080/",
          "height": 236
        },
        "id": "acCHtueBybJr",
        "outputId": "9c5c9b73-e634-4806-9664-b593cee5e4d6"
      },
      "execution_count": null,
      "outputs": [
        {
          "output_type": "execute_result",
          "data": {
            "text/plain": [
              "   aluminium  ammonia  arsenic  barium  cadmium  chloramine  chromium  copper  \\\n",
              "0       1.65     9.08     0.04    2.85    0.007        0.35      0.83    0.17   \n",
              "1       2.32    21.16     0.01    3.31    0.002        5.28      0.68    0.66   \n",
              "2       1.01    14.02     0.04    0.58    0.008        4.24      0.53    0.02   \n",
              "3       1.36    11.33     0.04    2.96    0.001        7.23      0.03    1.66   \n",
              "4       0.92    24.33     0.03    0.20    0.006        2.67      0.69    0.57   \n",
              "\n",
              "   flouride  bacteria  ...   lead  nitrates  nitrites  mercury  perchlorate  \\\n",
              "0      0.05      0.20  ...  0.054     16.08      1.13    0.007        37.75   \n",
              "1      0.90      0.65  ...  0.100      2.01      1.93    0.003        32.26   \n",
              "2      0.99      0.05  ...  0.078     14.16      1.11    0.006        50.28   \n",
              "3      1.08      0.71  ...  0.016      1.41      1.29    0.004         9.12   \n",
              "4      0.61      0.13  ...  0.117      6.74      1.11    0.003        16.90   \n",
              "\n",
              "   radium  selenium  silver  uranium  is_safe  \n",
              "0    6.78      0.08    0.34     0.02        1  \n",
              "1    3.21      0.08    0.27     0.05        1  \n",
              "2    7.07      0.07    0.44     0.01        0  \n",
              "3    1.72      0.02    0.45     0.05        1  \n",
              "4    2.41      0.02    0.06     0.02        1  \n",
              "\n",
              "[5 rows x 21 columns]"
            ],
            "text/html": [
              "\n",
              "  <div id=\"df-a60d56fb-ec34-4db7-9e6e-2c63c4333981\">\n",
              "    <div class=\"colab-df-container\">\n",
              "      <div>\n",
              "<style scoped>\n",
              "    .dataframe tbody tr th:only-of-type {\n",
              "        vertical-align: middle;\n",
              "    }\n",
              "\n",
              "    .dataframe tbody tr th {\n",
              "        vertical-align: top;\n",
              "    }\n",
              "\n",
              "    .dataframe thead th {\n",
              "        text-align: right;\n",
              "    }\n",
              "</style>\n",
              "<table border=\"1\" class=\"dataframe\">\n",
              "  <thead>\n",
              "    <tr style=\"text-align: right;\">\n",
              "      <th></th>\n",
              "      <th>aluminium</th>\n",
              "      <th>ammonia</th>\n",
              "      <th>arsenic</th>\n",
              "      <th>barium</th>\n",
              "      <th>cadmium</th>\n",
              "      <th>chloramine</th>\n",
              "      <th>chromium</th>\n",
              "      <th>copper</th>\n",
              "      <th>flouride</th>\n",
              "      <th>bacteria</th>\n",
              "      <th>...</th>\n",
              "      <th>lead</th>\n",
              "      <th>nitrates</th>\n",
              "      <th>nitrites</th>\n",
              "      <th>mercury</th>\n",
              "      <th>perchlorate</th>\n",
              "      <th>radium</th>\n",
              "      <th>selenium</th>\n",
              "      <th>silver</th>\n",
              "      <th>uranium</th>\n",
              "      <th>is_safe</th>\n",
              "    </tr>\n",
              "  </thead>\n",
              "  <tbody>\n",
              "    <tr>\n",
              "      <th>0</th>\n",
              "      <td>1.65</td>\n",
              "      <td>9.08</td>\n",
              "      <td>0.04</td>\n",
              "      <td>2.85</td>\n",
              "      <td>0.007</td>\n",
              "      <td>0.35</td>\n",
              "      <td>0.83</td>\n",
              "      <td>0.17</td>\n",
              "      <td>0.05</td>\n",
              "      <td>0.20</td>\n",
              "      <td>...</td>\n",
              "      <td>0.054</td>\n",
              "      <td>16.08</td>\n",
              "      <td>1.13</td>\n",
              "      <td>0.007</td>\n",
              "      <td>37.75</td>\n",
              "      <td>6.78</td>\n",
              "      <td>0.08</td>\n",
              "      <td>0.34</td>\n",
              "      <td>0.02</td>\n",
              "      <td>1</td>\n",
              "    </tr>\n",
              "    <tr>\n",
              "      <th>1</th>\n",
              "      <td>2.32</td>\n",
              "      <td>21.16</td>\n",
              "      <td>0.01</td>\n",
              "      <td>3.31</td>\n",
              "      <td>0.002</td>\n",
              "      <td>5.28</td>\n",
              "      <td>0.68</td>\n",
              "      <td>0.66</td>\n",
              "      <td>0.90</td>\n",
              "      <td>0.65</td>\n",
              "      <td>...</td>\n",
              "      <td>0.100</td>\n",
              "      <td>2.01</td>\n",
              "      <td>1.93</td>\n",
              "      <td>0.003</td>\n",
              "      <td>32.26</td>\n",
              "      <td>3.21</td>\n",
              "      <td>0.08</td>\n",
              "      <td>0.27</td>\n",
              "      <td>0.05</td>\n",
              "      <td>1</td>\n",
              "    </tr>\n",
              "    <tr>\n",
              "      <th>2</th>\n",
              "      <td>1.01</td>\n",
              "      <td>14.02</td>\n",
              "      <td>0.04</td>\n",
              "      <td>0.58</td>\n",
              "      <td>0.008</td>\n",
              "      <td>4.24</td>\n",
              "      <td>0.53</td>\n",
              "      <td>0.02</td>\n",
              "      <td>0.99</td>\n",
              "      <td>0.05</td>\n",
              "      <td>...</td>\n",
              "      <td>0.078</td>\n",
              "      <td>14.16</td>\n",
              "      <td>1.11</td>\n",
              "      <td>0.006</td>\n",
              "      <td>50.28</td>\n",
              "      <td>7.07</td>\n",
              "      <td>0.07</td>\n",
              "      <td>0.44</td>\n",
              "      <td>0.01</td>\n",
              "      <td>0</td>\n",
              "    </tr>\n",
              "    <tr>\n",
              "      <th>3</th>\n",
              "      <td>1.36</td>\n",
              "      <td>11.33</td>\n",
              "      <td>0.04</td>\n",
              "      <td>2.96</td>\n",
              "      <td>0.001</td>\n",
              "      <td>7.23</td>\n",
              "      <td>0.03</td>\n",
              "      <td>1.66</td>\n",
              "      <td>1.08</td>\n",
              "      <td>0.71</td>\n",
              "      <td>...</td>\n",
              "      <td>0.016</td>\n",
              "      <td>1.41</td>\n",
              "      <td>1.29</td>\n",
              "      <td>0.004</td>\n",
              "      <td>9.12</td>\n",
              "      <td>1.72</td>\n",
              "      <td>0.02</td>\n",
              "      <td>0.45</td>\n",
              "      <td>0.05</td>\n",
              "      <td>1</td>\n",
              "    </tr>\n",
              "    <tr>\n",
              "      <th>4</th>\n",
              "      <td>0.92</td>\n",
              "      <td>24.33</td>\n",
              "      <td>0.03</td>\n",
              "      <td>0.20</td>\n",
              "      <td>0.006</td>\n",
              "      <td>2.67</td>\n",
              "      <td>0.69</td>\n",
              "      <td>0.57</td>\n",
              "      <td>0.61</td>\n",
              "      <td>0.13</td>\n",
              "      <td>...</td>\n",
              "      <td>0.117</td>\n",
              "      <td>6.74</td>\n",
              "      <td>1.11</td>\n",
              "      <td>0.003</td>\n",
              "      <td>16.90</td>\n",
              "      <td>2.41</td>\n",
              "      <td>0.02</td>\n",
              "      <td>0.06</td>\n",
              "      <td>0.02</td>\n",
              "      <td>1</td>\n",
              "    </tr>\n",
              "  </tbody>\n",
              "</table>\n",
              "<p>5 rows × 21 columns</p>\n",
              "</div>\n",
              "      <button class=\"colab-df-convert\" onclick=\"convertToInteractive('df-a60d56fb-ec34-4db7-9e6e-2c63c4333981')\"\n",
              "              title=\"Convert this dataframe to an interactive table.\"\n",
              "              style=\"display:none;\">\n",
              "        \n",
              "  <svg xmlns=\"http://www.w3.org/2000/svg\" height=\"24px\"viewBox=\"0 0 24 24\"\n",
              "       width=\"24px\">\n",
              "    <path d=\"M0 0h24v24H0V0z\" fill=\"none\"/>\n",
              "    <path d=\"M18.56 5.44l.94 2.06.94-2.06 2.06-.94-2.06-.94-.94-2.06-.94 2.06-2.06.94zm-11 1L8.5 8.5l.94-2.06 2.06-.94-2.06-.94L8.5 2.5l-.94 2.06-2.06.94zm10 10l.94 2.06.94-2.06 2.06-.94-2.06-.94-.94-2.06-.94 2.06-2.06.94z\"/><path d=\"M17.41 7.96l-1.37-1.37c-.4-.4-.92-.59-1.43-.59-.52 0-1.04.2-1.43.59L10.3 9.45l-7.72 7.72c-.78.78-.78 2.05 0 2.83L4 21.41c.39.39.9.59 1.41.59.51 0 1.02-.2 1.41-.59l7.78-7.78 2.81-2.81c.8-.78.8-2.07 0-2.86zM5.41 20L4 18.59l7.72-7.72 1.47 1.35L5.41 20z\"/>\n",
              "  </svg>\n",
              "      </button>\n",
              "      \n",
              "  <style>\n",
              "    .colab-df-container {\n",
              "      display:flex;\n",
              "      flex-wrap:wrap;\n",
              "      gap: 12px;\n",
              "    }\n",
              "\n",
              "    .colab-df-convert {\n",
              "      background-color: #E8F0FE;\n",
              "      border: none;\n",
              "      border-radius: 50%;\n",
              "      cursor: pointer;\n",
              "      display: none;\n",
              "      fill: #1967D2;\n",
              "      height: 32px;\n",
              "      padding: 0 0 0 0;\n",
              "      width: 32px;\n",
              "    }\n",
              "\n",
              "    .colab-df-convert:hover {\n",
              "      background-color: #E2EBFA;\n",
              "      box-shadow: 0px 1px 2px rgba(60, 64, 67, 0.3), 0px 1px 3px 1px rgba(60, 64, 67, 0.15);\n",
              "      fill: #174EA6;\n",
              "    }\n",
              "\n",
              "    [theme=dark] .colab-df-convert {\n",
              "      background-color: #3B4455;\n",
              "      fill: #D2E3FC;\n",
              "    }\n",
              "\n",
              "    [theme=dark] .colab-df-convert:hover {\n",
              "      background-color: #434B5C;\n",
              "      box-shadow: 0px 1px 3px 1px rgba(0, 0, 0, 0.15);\n",
              "      filter: drop-shadow(0px 1px 2px rgba(0, 0, 0, 0.3));\n",
              "      fill: #FFFFFF;\n",
              "    }\n",
              "  </style>\n",
              "\n",
              "      <script>\n",
              "        const buttonEl =\n",
              "          document.querySelector('#df-a60d56fb-ec34-4db7-9e6e-2c63c4333981 button.colab-df-convert');\n",
              "        buttonEl.style.display =\n",
              "          google.colab.kernel.accessAllowed ? 'block' : 'none';\n",
              "\n",
              "        async function convertToInteractive(key) {\n",
              "          const element = document.querySelector('#df-a60d56fb-ec34-4db7-9e6e-2c63c4333981');\n",
              "          const dataTable =\n",
              "            await google.colab.kernel.invokeFunction('convertToInteractive',\n",
              "                                                     [key], {});\n",
              "          if (!dataTable) return;\n",
              "\n",
              "          const docLinkHtml = 'Like what you see? Visit the ' +\n",
              "            '<a target=\"_blank\" href=https://colab.research.google.com/notebooks/data_table.ipynb>data table notebook</a>'\n",
              "            + ' to learn more about interactive tables.';\n",
              "          element.innerHTML = '';\n",
              "          dataTable['output_type'] = 'display_data';\n",
              "          await google.colab.output.renderOutput(dataTable, element);\n",
              "          const docLink = document.createElement('div');\n",
              "          docLink.innerHTML = docLinkHtml;\n",
              "          element.appendChild(docLink);\n",
              "        }\n",
              "      </script>\n",
              "    </div>\n",
              "  </div>\n",
              "  "
            ]
          },
          "metadata": {},
          "execution_count": 37
        }
      ]
    },
    {
      "cell_type": "markdown",
      "source": [
        "### Exploratory Data Analysis (EDA)"
      ],
      "metadata": {
        "id": "4-QaNSkMyfbV"
      }
    },
    {
      "cell_type": "code",
      "source": [
        "df.hist(figsize=(20, 15), bins=10)"
      ],
      "metadata": {
        "colab": {
          "base_uri": "https://localhost:8080/",
          "height": 1000
        },
        "id": "bcA-l-i2ydw5",
        "outputId": "cc29e92e-3da9-4ab1-b267-389301f06d23"
      },
      "execution_count": null,
      "outputs": [
        {
          "output_type": "execute_result",
          "data": {
            "text/plain": [
              "array([[<matplotlib.axes._subplots.AxesSubplot object at 0x7fe23df83dd0>,\n",
              "        <matplotlib.axes._subplots.AxesSubplot object at 0x7fe23dd05290>,\n",
              "        <matplotlib.axes._subplots.AxesSubplot object at 0x7fe23dd2e890>,\n",
              "        <matplotlib.axes._subplots.AxesSubplot object at 0x7fe23dcdde90>,\n",
              "        <matplotlib.axes._subplots.AxesSubplot object at 0x7fe23dc97450>],\n",
              "       [<matplotlib.axes._subplots.AxesSubplot object at 0x7fe23dc4da50>,\n",
              "        <matplotlib.axes._subplots.AxesSubplot object at 0x7fe23dc7bb10>,\n",
              "        <matplotlib.axes._subplots.AxesSubplot object at 0x7fe23dbca5d0>,\n",
              "        <matplotlib.axes._subplots.AxesSubplot object at 0x7fe23dbca610>,\n",
              "        <matplotlib.axes._subplots.AxesSubplot object at 0x7fe23dbfed10>],\n",
              "       [<matplotlib.axes._subplots.AxesSubplot object at 0x7fe23db7b850>,\n",
              "        <matplotlib.axes._subplots.AxesSubplot object at 0x7fe23db31e50>,\n",
              "        <matplotlib.axes._subplots.AxesSubplot object at 0x7fe23daf5490>,\n",
              "        <matplotlib.axes._subplots.AxesSubplot object at 0x7fe23daada90>,\n",
              "        <matplotlib.axes._subplots.AxesSubplot object at 0x7fe23da700d0>],\n",
              "       [<matplotlib.axes._subplots.AxesSubplot object at 0x7fe23da246d0>,\n",
              "        <matplotlib.axes._subplots.AxesSubplot object at 0x7fe23d9dccd0>,\n",
              "        <matplotlib.axes._subplots.AxesSubplot object at 0x7fe23d9a1310>,\n",
              "        <matplotlib.axes._subplots.AxesSubplot object at 0x7fe23d956910>,\n",
              "        <matplotlib.axes._subplots.AxesSubplot object at 0x7fe23d90ef10>],\n",
              "       [<matplotlib.axes._subplots.AxesSubplot object at 0x7fe23d8d2550>,\n",
              "        <matplotlib.axes._subplots.AxesSubplot object at 0x7fe23d88cb90>,\n",
              "        <matplotlib.axes._subplots.AxesSubplot object at 0x7fe23d849250>,\n",
              "        <matplotlib.axes._subplots.AxesSubplot object at 0x7fe23d87f850>,\n",
              "        <matplotlib.axes._subplots.AxesSubplot object at 0x7fe23d834e50>]],\n",
              "      dtype=object)"
            ]
          },
          "metadata": {},
          "execution_count": 38
        },
        {
          "output_type": "display_data",
          "data": {
            "text/plain": [
              "<Figure size 1440x1080 with 25 Axes>"
            ],
            "image/png": "[encoded data removed]"
          },
          "metadata": {
            "needs_background": "light"
          }
        }
      ]
    },
    {
      "cell_type": "code",
      "source": [
        "sns.countplot(data=df , x='is_safe')"
      ],
      "metadata": {
        "colab": {
          "base_uri": "https://localhost:8080/",
          "height": 299
        },
        "id": "C3hriZwCyw97",
        "outputId": "fe374487-2df7-4f3b-8bdc-afead66e269f"
      },
      "execution_count": null,
      "outputs": [
        {
          "output_type": "execute_result",
          "data": {
            "text/plain": [
              "<matplotlib.axes._subplots.AxesSubplot at 0x7fe23d278ad0>"
            ]
          },
          "metadata": {},
          "execution_count": 39
        },
        {
          "output_type": "display_data",
          "data": {
            "text/plain": [
              "<Figure size 432x288 with 1 Axes>"
            ],
            "image/png": "[encoded data removed]"
          },
          "metadata": {
            "needs_background": "light"
          }
        }
      ]
    },
    {
      "cell_type": "code",
      "source": [
        "df['is_safe'].value_counts()"
      ],
      "metadata": {
        "colab": {
          "base_uri": "https://localhost:8080/"
        },
        "id": "w8QwQbPMy9Oj",
        "outputId": "ef91fe54-13d8-499d-8d4a-fc859f7767e3"
      },
      "execution_count": null,
      "outputs": [
        {
          "output_type": "execute_result",
          "data": {
            "text/plain": [
              "0    7084\n",
              "1     912\n",
              "Name: is_safe, dtype: int64"
            ]
          },
          "metadata": {},
          "execution_count": 40
        }
      ]
    },
    {
      "cell_type": "code",
      "source": [
        "# Imbalanced data. It is best to balance the data before it is being trained.\n",
        "# The data will be balanced using Smote\n",
        "\n",
        "features = df.drop('is_safe', axis=1)\n",
        "label = df.is_safe\n",
        "\n",
        "from imblearn.over_sampling import SMOTE\n",
        "sm = SMOTE(random_state=42)\n",
        "feat_res, label_res = sm.fit_resample(features, label)\n",
        "feat_res.shape ,label_res.shape"
      ],
      "metadata": {
        "colab": {
          "base_uri": "https://localhost:8080/"
        },
        "id": "MIZGk9s3zFFU",
        "outputId": "efc9736b-518c-47ec-d94b-ff306f7433c8"
      },
      "execution_count": null,
      "outputs": [
        {
          "output_type": "execute_result",
          "data": {
            "text/plain": [
              "((14168, 20), (14168,))"
            ]
          },
          "metadata": {},
          "execution_count": 41
        }
      ]
    },
    {
      "cell_type": "code",
      "source": [
        "sns.countplot(x=label_res)"
      ],
      "metadata": {
        "colab": {
          "base_uri": "https://localhost:8080/",
          "height": 299
        },
        "id": "XLp1E48M20MF",
        "outputId": "cd3e45a2-e408-466c-9c92-60b58a4c1816"
      },
      "execution_count": null,
      "outputs": [
        {
          "output_type": "execute_result",
          "data": {
            "text/plain": [
              "<matplotlib.axes._subplots.AxesSubplot at 0x7fe23d189490>"
            ]
          },
          "metadata": {},
          "execution_count": 42
        },
        {
          "output_type": "display_data",
          "data": {
            "text/plain": [
              "<Figure size 432x288 with 1 Axes>"
            ],
            "image/png": "[encoded data removed]"
          },
          "metadata": {
            "needs_background": "light"
          }
        }
      ]
    },
    {
      "cell_type": "code",
      "source": [
        "feat_res.hist(figsize=(20, 15), bins=25)"
      ],
      "metadata": {
        "colab": {
          "base_uri": "https://localhost:8080/",
          "height": 1000
        },
        "id": "kZa9nuye2_LM",
        "outputId": "eb497f4f-0c53-4e8f-dc4d-e6920ef00ea3"
      },
      "execution_count": null,
      "outputs": [
        {
          "output_type": "execute_result",
          "data": {
            "text/plain": [
              "array([[<matplotlib.axes._subplots.AxesSubplot object at 0x7fe23d160d10>,\n",
              "        <matplotlib.axes._subplots.AxesSubplot object at 0x7fe23d108c10>,\n",
              "        <matplotlib.axes._subplots.AxesSubplot object at 0x7fe23d0cb250>,\n",
              "        <matplotlib.axes._subplots.AxesSubplot object at 0x7fe23d083850>],\n",
              "       [<matplotlib.axes._subplots.AxesSubplot object at 0x7fe23d046210>,\n",
              "        <matplotlib.axes._subplots.AxesSubplot object at 0x7fe23d07a710>,\n",
              "        <matplotlib.axes._subplots.AxesSubplot object at 0x7fe23d030c90>,\n",
              "        <matplotlib.axes._subplots.AxesSubplot object at 0x7fe23cff4110>],\n",
              "       [<matplotlib.axes._subplots.AxesSubplot object at 0x7fe23cff4150>,\n",
              "        <matplotlib.axes._subplots.AxesSubplot object at 0x7fe23cfab750>,\n",
              "        <matplotlib.axes._subplots.AxesSubplot object at 0x7fe23cf0eb90>,\n",
              "        <matplotlib.axes._subplots.AxesSubplot object at 0x7fe23cedb590>],\n",
              "       [<matplotlib.axes._subplots.AxesSubplot object at 0x7fe23ce91a90>,\n",
              "        <matplotlib.axes._subplots.AxesSubplot object at 0x7fe23ce49f90>,\n",
              "        <matplotlib.axes._subplots.AxesSubplot object at 0x7fe23ce0d4d0>,\n",
              "        <matplotlib.axes._subplots.AxesSubplot object at 0x7fe23cdc29d0>],\n",
              "       [<matplotlib.axes._subplots.AxesSubplot object at 0x7fe23cdfaed0>,\n",
              "        <matplotlib.axes._subplots.AxesSubplot object at 0x7fe23cdbe410>,\n",
              "        <matplotlib.axes._subplots.AxesSubplot object at 0x7fe23cd72910>,\n",
              "        <matplotlib.axes._subplots.AxesSubplot object at 0x7fe23cd28e10>]],\n",
              "      dtype=object)"
            ]
          },
          "metadata": {},
          "execution_count": 43
        },
        {
          "output_type": "display_data",
          "data": {
            "text/plain": [
              "<Figure size 1440x1080 with 20 Axes>"
            ],
            "image/png": "[encoded data removed]"
          },
          "metadata": {
            "needs_background": "light"
          }
        }
      ]
    },
    {
      "cell_type": "markdown",
      "source": [
        "### Preprocessing"
      ],
      "metadata": {
        "id": "dTft92_L3XYQ"
      }
    },
    {
      "cell_type": "markdown",
      "source": [
        "#### Checking for Outliers"
      ],
      "metadata": {
        "id": "0vmtWbdc3dxZ"
      }
    },
    {
      "cell_type": "code",
      "source": [
        "sns.boxplot(x='aluminium', data=feat_res)"
      ],
      "metadata": {
        "colab": {
          "base_uri": "https://localhost:8080/",
          "height": 298
        },
        "id": "abLnFC5J3Ly1",
        "outputId": "a0d82e35-7216-4920-c0be-02deb9d3e427"
      },
      "execution_count": null,
      "outputs": [
        {
          "output_type": "execute_result",
          "data": {
            "text/plain": [
              "<matplotlib.axes._subplots.AxesSubplot at 0x7fe23d1ae9d0>"
            ]
          },
          "metadata": {},
          "execution_count": 44
        },
        {
          "output_type": "display_data",
          "data": {
            "text/plain": [
              "<Figure size 432x288 with 1 Axes>"
            ],
            "image/png": "[encoded data removed]"
          },
          "metadata": {
            "needs_background": "light"
          }
        }
      ]
    },
    {
      "cell_type": "code",
      "source": [
        "# Doesn't seem like there's an outlier there, but it's not balanced."
      ],
      "metadata": {
        "id": "RXOrWJe83uSg"
      },
      "execution_count": null,
      "outputs": []
    },
    {
      "cell_type": "code",
      "source": [
        "sns.boxplot(x='chromium', data=feat_res)"
      ],
      "metadata": {
        "colab": {
          "base_uri": "https://localhost:8080/",
          "height": 298
        },
        "id": "wtkZfRBO4Nzz",
        "outputId": "0afe1699-a5fd-4778-e970-3d261c83ac80"
      },
      "execution_count": null,
      "outputs": [
        {
          "output_type": "execute_result",
          "data": {
            "text/plain": [
              "<matplotlib.axes._subplots.AxesSubplot at 0x7fe23c3465d0>"
            ]
          },
          "metadata": {},
          "execution_count": 46
        },
        {
          "output_type": "display_data",
          "data": {
            "text/plain": [
              "<Figure size 432x288 with 1 Axes>"
            ],
            "image/png": "[encoded data removed]"
          },
          "metadata": {
            "needs_background": "light"
          }
        }
      ]
    },
    {
      "cell_type": "code",
      "source": [
        "# Chromium is almost balanced(distributed) and have no outlier."
      ],
      "metadata": {
        "id": "rP3wxOP94Sl6"
      },
      "execution_count": null,
      "outputs": []
    },
    {
      "cell_type": "code",
      "source": [
        "sns.boxplot(x='chloramine', data=feat_res)"
      ],
      "metadata": {
        "colab": {
          "base_uri": "https://localhost:8080/",
          "height": 298
        },
        "id": "JffNk1pq4Yj7",
        "outputId": "6f387c04-1494-4941-b838-522a0a64ae19"
      },
      "execution_count": null,
      "outputs": [
        {
          "output_type": "execute_result",
          "data": {
            "text/plain": [
              "<matplotlib.axes._subplots.AxesSubplot at 0x7fe23c376590>"
            ]
          },
          "metadata": {},
          "execution_count": 48
        },
        {
          "output_type": "display_data",
          "data": {
            "text/plain": [
              "<Figure size 432x288 with 1 Axes>"
            ],
            "image/png": "[encoded data removed]"
          },
          "metadata": {
            "needs_background": "light"
          }
        }
      ]
    },
    {
      "cell_type": "code",
      "source": [
        "# chloramine have no outliers like the others"
      ],
      "metadata": {
        "id": "e4uvdvXD4bfj"
      },
      "execution_count": null,
      "outputs": []
    },
    {
      "cell_type": "code",
      "source": [
        "feat_res.arsenic.describe()"
      ],
      "metadata": {
        "colab": {
          "base_uri": "https://localhost:8080/"
        },
        "id": "VBa1feu14h2b",
        "outputId": "80cdb051-2357-4e0a-f17c-381d314eea14"
      },
      "execution_count": null,
      "outputs": [
        {
          "output_type": "execute_result",
          "data": {
            "text/plain": [
              "count    14168.000000\n",
              "mean         0.123979\n",
              "std          0.214358\n",
              "min          0.000000\n",
              "25%          0.020000\n",
              "50%          0.040000\n",
              "75%          0.080000\n",
              "max          1.050000\n",
              "Name: arsenic, dtype: float64"
            ]
          },
          "metadata": {},
          "execution_count": 50
        }
      ]
    },
    {
      "cell_type": "code",
      "source": [
        "sns.boxplot(x='bacteria', data=feat_res)"
      ],
      "metadata": {
        "colab": {
          "base_uri": "https://localhost:8080/",
          "height": 298
        },
        "id": "Om6CxPCQ4ptU",
        "outputId": "edc6a37a-36fa-49a3-d19b-baa5a1d661ac"
      },
      "execution_count": null,
      "outputs": [
        {
          "output_type": "execute_result",
          "data": {
            "text/plain": [
              "<matplotlib.axes._subplots.AxesSubplot at 0x7fe23c2d6250>"
            ]
          },
          "metadata": {},
          "execution_count": 51
        },
        {
          "output_type": "display_data",
          "data": {
            "text/plain": [
              "<Figure size 432x288 with 1 Axes>"
            ],
            "image/png": "[encoded data removed]"
          },
          "metadata": {
            "needs_background": "light"
          }
        }
      ]
    },
    {
      "cell_type": "code",
      "source": [
        "# Bacteria seem not to have outliers, but it's skewed."
      ],
      "metadata": {
        "id": "B3qpmGaP42GR"
      },
      "execution_count": null,
      "outputs": []
    },
    {
      "cell_type": "code",
      "source": [
        "sns.boxplot(x='viruses', data=feat_res)"
      ],
      "metadata": {
        "colab": {
          "base_uri": "https://localhost:8080/",
          "height": 111
        },
        "id": "m7VcSbPt4-XN",
        "outputId": "eea5d98b-32e3-44ba-9f57-9e336eebf920"
      },
      "execution_count": null,
      "outputs": [
        {
          "output_type": "execute_result",
          "data": {
            "text/plain": [
              "<matplotlib.axes._subplots.AxesSubplot at 0x7fe23c2538d0>"
            ]
          },
          "metadata": {},
          "execution_count": 53
        },
        {
          "output_type": "display_data",
          "data": {
            "text/plain": [
              "<Figure size 432x288 with 1 Axes>"
            ],
            "image/png": "[encoded data removed]"
          },
          "metadata": {
            "needs_background": "light"
          }
        }
      ]
    },
    {
      "cell_type": "code",
      "source": [
        "# Viruses seems to also have no outliers but it is also skewed."
      ],
      "metadata": {
        "id": "BfY6oXa-5IKm"
      },
      "execution_count": null,
      "outputs": []
    },
    {
      "cell_type": "markdown",
      "source": [
        "Since it is only arsenic that seem to have  outliers, it will be left the way it is. Removal of its outliers can lead to others having outliers then increasing the numbers of outliers."
      ],
      "metadata": {
        "id": "G46OPLst5cMq"
      }
    },
    {
      "cell_type": "markdown",
      "source": [
        "#### checking for correlation"
      ],
      "metadata": {
        "id": "nZBumRzfrv0K"
      }
    },
    {
      "cell_type": "code",
      "source": [
        "combined = feat_res.copy()\n",
        "combined['is_safe'] = label_res"
      ],
      "metadata": {
        "id": "ZxeZUdlrrwCg"
      },
      "execution_count": null,
      "outputs": []
    },
    {
      "cell_type": "code",
      "source": [
        "corr = combined.corr()\n",
        "corr['is_safe'].sort_values(ascending=False)"
      ],
      "metadata": {
        "colab": {
          "base_uri": "https://localhost:8080/"
        },
        "id": "vDXvdpv8rwG8",
        "outputId": "bc3e3814-c163-49cc-ebd4-953cd8e1cc7c"
      },
      "execution_count": null,
      "outputs": [
        {
          "output_type": "execute_result",
          "data": {
            "text/plain": [
              "is_safe        1.000000\n",
              "aluminium      0.447779\n",
              "chromium       0.288599\n",
              "chloramine     0.287464\n",
              "silver         0.162616\n",
              "barium         0.145280\n",
              "perchlorate    0.126216\n",
              "radium         0.102337\n",
              "nitrites       0.077885\n",
              "copper         0.048151\n",
              "flouride       0.006873\n",
              "lead          -0.011314\n",
              "ammonia       -0.035394\n",
              "bacteria      -0.041550\n",
              "selenium      -0.052613\n",
              "mercury       -0.068074\n",
              "nitrates      -0.107761\n",
              "uranium       -0.143575\n",
              "viruses       -0.172260\n",
              "arsenic       -0.227103\n",
              "cadmium       -0.424757\n",
              "Name: is_safe, dtype: float64"
            ]
          },
          "metadata": {},
          "execution_count": 56
        }
      ]
    },
    {
      "cell_type": "code",
      "source": [
        "plt.figure(figsize=(15,12))\n",
        "\n",
        "sns.heatmap(corr)"
      ],
      "metadata": {
        "colab": {
          "base_uri": "https://localhost:8080/"
        },
        "id": "s3rFYxpRtahA",
        "outputId": "853fab6e-c7c2-4ef9-d73e-2f352198fbb3"
      },
      "execution_count": null,
      "outputs": [
        {
          "output_type": "execute_result",
          "data": {
            "text/plain": [
              "<matplotlib.axes._subplots.AxesSubplot at 0x7fe23c20b4d0>"
            ]
          },
          "metadata": {},
          "execution_count": 57
        },
        {
          "output_type": "display_data",
          "data": {
            "text/plain": [
              "<Figure size 1080x864 with 2 Axes>"
            ],
            "image/png": "[encoded data removed]"
          },
          "metadata": {
            "needs_background": "light"
          }
        }
      ]
    },
    {
      "cell_type": "markdown",
      "source": [
        "### Standardizing"
      ],
      "metadata": {
        "id": "0Z6P1EHW6Jcm"
      }
    },
    {
      "cell_type": "code",
      "source": [
        "scaler = StandardScaler()\n",
        "\n",
        "feat = scaler.fit_transform(feat_res)\n",
        "feat[:1]"
      ],
      "metadata": {
        "colab": {
          "base_uri": "https://localhost:8080/"
        },
        "id": "1rAhvGwd5V1v",
        "outputId": "91adde16-6f94-480a-9e8d-06dcb84f4040"
      },
      "execution_count": null,
      "outputs": [
        {
          "output_type": "execute_result",
          "data": {
            "text/plain": [
              "array([[ 0.33638428, -0.56722662, -0.39178206,  0.99972172, -0.72739709,\n",
              "        -0.94424385,  1.96433373, -1.08106809, -1.80499355, -0.35930511,\n",
              "        -0.81472809, -0.84178287,  1.2106675 , -0.45277648,  0.70430714,\n",
              "         1.20230742,  1.65017643,  1.17283212,  1.24415631, -0.86640305]])"
            ]
          },
          "metadata": {},
          "execution_count": 58
        }
      ]
    },
    {
      "cell_type": "code",
      "source": [
        "# Splitting the data to train, vaidation and test sets\n",
        "\n",
        "train_feat, test_feat, train_label, test_label = train_test_split(feat, label_res, test_size=0.2, random_state=42)\n",
        "train_feat, val_feat, train_label, val_label = train_test_split(train_feat, train_label, test_size=0.2, random_state=42)\n",
        "\n",
        "train_feat.shape, train_label.shape, val_feat.shape, val_label.shape, test_feat.shape, test_label.shape"
      ],
      "metadata": {
        "colab": {
          "base_uri": "https://localhost:8080/"
        },
        "id": "JwJCNKTG60sZ",
        "outputId": "067ca360-904d-4841-dabf-a0ee4d33d7da"
      },
      "execution_count": null,
      "outputs": [
        {
          "output_type": "execute_result",
          "data": {
            "text/plain": [
              "((9067, 20), (9067,), (2267, 20), (2267,), (2834, 20), (2834,))"
            ]
          },
          "metadata": {},
          "execution_count": 59
        }
      ]
    },
    {
      "cell_type": "markdown",
      "source": [
        "### Modelling with Logistic Regression"
      ],
      "metadata": {
        "id": "2500uyZ88DnC"
      }
    },
    {
      "cell_type": "code",
      "source": [
        "from sklearn.linear_model import LogisticRegression\n",
        "log_res = LogisticRegression()\n",
        "log_res.fit(train_feat, train_label)\n",
        "pred = log_res.predict(val_feat)\n",
        "accuracy = accuracy_score(val_label, pred)\n",
        "print(accuracy)"
      ],
      "metadata": {
        "colab": {
          "base_uri": "https://localhost:8080/"
        },
        "id": "06kWm3-Q7zr6",
        "outputId": "4c87043d-8c5a-4060-8daa-168c6f08af8b"
      },
      "execution_count": null,
      "outputs": [
        {
          "output_type": "stream",
          "name": "stdout",
          "text": [
            "0.7953242170269078\n"
          ]
        }
      ]
    },
    {
      "cell_type": "code",
      "source": [
        "print(classification_report(val_label, pred))"
      ],
      "metadata": {
        "colab": {
          "base_uri": "https://localhost:8080/"
        },
        "id": "goNDjrS59hhR",
        "outputId": "35cc3ae7-d002-4bff-a770-facb1c34418d"
      },
      "execution_count": null,
      "outputs": [
        {
          "output_type": "stream",
          "name": "stdout",
          "text": [
            "              precision    recall  f1-score   support\n",
            "\n",
            "           0       0.79      0.81      0.80      1135\n",
            "           1       0.80      0.78      0.79      1132\n",
            "\n",
            "    accuracy                           0.80      2267\n",
            "   macro avg       0.80      0.80      0.80      2267\n",
            "weighted avg       0.80      0.80      0.80      2267\n",
            "\n"
          ]
        }
      ]
    },
    {
      "cell_type": "code",
      "source": [
        "confusion_matrix(val_label, pred)"
      ],
      "metadata": {
        "colab": {
          "base_uri": "https://localhost:8080/"
        },
        "id": "LN_x9kPoCPZF",
        "outputId": "b77075bb-a7dc-42c7-c7bd-ee0d407f8b65"
      },
      "execution_count": null,
      "outputs": [
        {
          "output_type": "execute_result",
          "data": {
            "text/plain": [
              "array([[916, 219],\n",
              "       [245, 887]])"
            ]
          },
          "metadata": {},
          "execution_count": 62
        }
      ]
    },
    {
      "cell_type": "code",
      "source": [
        "def plot_confusion_matrix(true, pred):\n",
        "    from sklearn.metrics import confusion_matrix\n",
        "    confusion_matrix = confusion_matrix(true, pred, labels=[1, 0])\n",
        "\n",
        "    import seaborn as sns; sns.set()\n",
        "    import matplotlib.pyplot as plt\n",
        "\n",
        "    cm_df = pd.DataFrame(confusion_matrix,\n",
        "                 index = ['1', '0'], \n",
        "                 columns = ['1', '0'])\n",
        "    ax = sns.heatmap(cm_df, fmt = 'd' ,annot=True)\n",
        "\n",
        "    plt.ylabel('True label')\n",
        "    plt.xlabel('Predicted label')\n",
        "    plt.title('Confusion Matrix')\n",
        "    plt.show()"
      ],
      "metadata": {
        "id": "AAhFcdvBILhh"
      },
      "execution_count": null,
      "outputs": []
    },
    {
      "cell_type": "code",
      "source": [
        "plot_confusion_matrix(val_label, pred)"
      ],
      "metadata": {
        "colab": {
          "base_uri": "https://localhost:8080/",
          "height": 301
        },
        "id": "8Lw--WwoIN27",
        "outputId": "56481d7f-838c-4a99-b886-23443d186b4e"
      },
      "execution_count": null,
      "outputs": [
        {
          "output_type": "display_data",
          "data": {
            "text/plain": [
              "<Figure size 432x288 with 2 Axes>"
            ],
            "image/png": "[encoded data removed]"
          },
          "metadata": {}
        }
      ]
    },
    {
      "cell_type": "code",
      "source": [
        "# Predicting the test set\n",
        "test_pred = log_res.predict(test_feat)\n",
        "print(classification_report(test_label, test_pred))"
      ],
      "metadata": {
        "colab": {
          "base_uri": "https://localhost:8080/"
        },
        "id": "I8oEoRAqtITL",
        "outputId": "644bcfba-ad81-4310-fb97-b4817572921a"
      },
      "execution_count": null,
      "outputs": [
        {
          "output_type": "stream",
          "name": "stdout",
          "text": [
            "              precision    recall  f1-score   support\n",
            "\n",
            "           0       0.80      0.81      0.81      1420\n",
            "           1       0.81      0.80      0.80      1414\n",
            "\n",
            "    accuracy                           0.81      2834\n",
            "   macro avg       0.81      0.81      0.81      2834\n",
            "weighted avg       0.81      0.81      0.81      2834\n",
            "\n"
          ]
        }
      ]
    },
    {
      "cell_type": "code",
      "source": [
        "plot_confusion_matrix(test_label, test_pred)"
      ],
      "metadata": {
        "colab": {
          "base_uri": "https://localhost:8080/",
          "height": 301
        },
        "id": "0FDb52N-tsM6",
        "outputId": "3fce2459-ac47-4528-ed8b-dc4b07d25e6f"
      },
      "execution_count": null,
      "outputs": [
        {
          "output_type": "display_data",
          "data": {
            "text/plain": [
              "<Figure size 432x288 with 2 Axes>"
            ],
            "image/png": "[encoded data removed]"
          },
          "metadata": {}
        }
      ]
    },
    {
      "cell_type": "markdown",
      "source": [
        "#### Trying with Random Forest Classifier, GradientBoostingClassifier and the CatBoostClassifier"
      ],
      "metadata": {
        "id": "DB0wdsBM_U3J"
      }
    },
    {
      "cell_type": "code",
      "source": [
        "# RandomForest\n",
        "\n",
        "rf_clf = RandomForestClassifier()\n",
        "rf_clf.fit(train_feat, train_label)\n",
        "pred = rf_clf.predict(val_feat)\n",
        "accuracy = accuracy_score(val_label, pred)\n",
        "print(accuracy)"
      ],
      "metadata": {
        "colab": {
          "base_uri": "https://localhost:8080/"
        },
        "id": "2DSGj_so-RJz",
        "outputId": "864b3429-96b8-4581-e668-731fe56fa132"
      },
      "execution_count": null,
      "outputs": [
        {
          "output_type": "stream",
          "name": "stdout",
          "text": [
            "0.9752977503308337\n"
          ]
        }
      ]
    },
    {
      "cell_type": "code",
      "source": [
        "print(classification_report(val_label, pred))"
      ],
      "metadata": {
        "colab": {
          "base_uri": "https://localhost:8080/"
        },
        "id": "Si0XuIFJ_zYh",
        "outputId": "ba3320e6-6822-43dc-b6b0-f0a851b59bcc"
      },
      "execution_count": null,
      "outputs": [
        {
          "output_type": "stream",
          "name": "stdout",
          "text": [
            "              precision    recall  f1-score   support\n",
            "\n",
            "           0       0.98      0.97      0.98      1135\n",
            "           1       0.97      0.98      0.98      1132\n",
            "\n",
            "    accuracy                           0.98      2267\n",
            "   macro avg       0.98      0.98      0.98      2267\n",
            "weighted avg       0.98      0.98      0.98      2267\n",
            "\n"
          ]
        }
      ]
    },
    {
      "cell_type": "code",
      "source": [
        "confusion_matrix(val_label, pred)"
      ],
      "metadata": {
        "colab": {
          "base_uri": "https://localhost:8080/"
        },
        "id": "GgN-0h1CHCvb",
        "outputId": "13518295-c83d-48e3-addb-1d1c7b3c2a79"
      },
      "execution_count": null,
      "outputs": [
        {
          "output_type": "execute_result",
          "data": {
            "text/plain": [
              "array([[1103,   32],\n",
              "       [  24, 1108]])"
            ]
          },
          "metadata": {},
          "execution_count": 69
        }
      ]
    },
    {
      "cell_type": "code",
      "source": [
        "plot_confusion_matrix(val_label, pred)"
      ],
      "metadata": {
        "colab": {
          "base_uri": "https://localhost:8080/"
        },
        "id": "wdLoD7gxIfXn",
        "outputId": "82a79fb5-c11c-4718-f13f-5946888b7538"
      },
      "execution_count": null,
      "outputs": [
        {
          "output_type": "display_data",
          "data": {
            "text/plain": [
              "<Figure size 432x288 with 2 Axes>"
            ],
            "image/png": "[encoded data removed]"
          },
          "metadata": {}
        }
      ]
    },
    {
      "cell_type": "code",
      "source": [
        "# Predicting the test set\n",
        "test_pred = rf_clf.predict(test_feat)\n",
        "print(classification_report(test_label, test_pred))"
      ],
      "metadata": {
        "colab": {
          "base_uri": "https://localhost:8080/"
        },
        "id": "WvhffCRHuAIr",
        "outputId": "0aa94522-32c6-418e-b3b3-90392fca0d4c"
      },
      "execution_count": null,
      "outputs": [
        {
          "output_type": "stream",
          "name": "stdout",
          "text": [
            "              precision    recall  f1-score   support\n",
            "\n",
            "           0       0.98      0.97      0.98      1420\n",
            "           1       0.97      0.99      0.98      1414\n",
            "\n",
            "    accuracy                           0.98      2834\n",
            "   macro avg       0.98      0.98      0.98      2834\n",
            "weighted avg       0.98      0.98      0.98      2834\n",
            "\n"
          ]
        }
      ]
    },
    {
      "cell_type": "code",
      "source": [
        "plot_confusion_matrix(test_label, test_pred)"
      ],
      "metadata": {
        "colab": {
          "base_uri": "https://localhost:8080/"
        },
        "id": "bFtM-VVCuAMF",
        "outputId": "9ba1ea32-9070-49fc-935d-118a2608b6dd"
      },
      "execution_count": null,
      "outputs": [
        {
          "output_type": "display_data",
          "data": {
            "text/plain": [
              "<Figure size 432x288 with 2 Axes>"
            ],
            "image/png": "[encoded data removed]"
          },
          "metadata": {}
        }
      ]
    },
    {
      "cell_type": "code",
      "source": [
        "# Cat boost Classifier\n",
        "cat_clf = CatBoostClassifier()\n",
        "cat_clf.fit(train_feat, train_label)\n",
        "pred = cat_clf.predict(val_feat)\n",
        "accuracy = accuracy_score(val_label, pred)\n",
        "print(accuracy)"
      ],
      "metadata": {
        "colab": {
          "base_uri": "https://localhost:8080/"
        },
        "id": "tGoF2bJy_6eg",
        "outputId": "ff7341ef-dad5-4cf0-e0d9-75c467f2f577"
      },
      "execution_count": null,
      "outputs": [
        {
          "output_type": "stream",
          "name": "stdout",
          "text": [
            "Learning rate set to 0.02641\n",
            "0:\tlearn: 0.6679369\ttotal: 70.3ms\tremaining: 1m 10s\n",
            "1:\tlearn: 0.6446559\ttotal: 98.2ms\tremaining: 49s\n",
            "2:\tlearn: 0.6224443\ttotal: 118ms\tremaining: 39.4s\n",
            "3:\tlearn: 0.6060350\ttotal: 154ms\tremaining: 38.4s\n",
            "4:\tlearn: 0.5864060\ttotal: 190ms\tremaining: 37.8s\n",
            "5:\tlearn: 0.5722859\ttotal: 215ms\tremaining: 35.5s\n",
            "6:\tlearn: 0.5577915\ttotal: 235ms\tremaining: 33.3s\n",
            "7:\tlearn: 0.5412367\ttotal: 257ms\tremaining: 31.9s\n",
            "8:\tlearn: 0.5271696\ttotal: 277ms\tremaining: 30.5s\n",
            "9:\tlearn: 0.5119974\ttotal: 298ms\tremaining: 29.5s\n",
            "10:\tlearn: 0.4968607\ttotal: 326ms\tremaining: 29.4s\n",
            "11:\tlearn: 0.4832549\ttotal: 379ms\tremaining: 31.2s\n",
            "12:\tlearn: 0.4698106\ttotal: 420ms\tremaining: 31.9s\n",
            "13:\tlearn: 0.4584861\ttotal: 447ms\tremaining: 31.4s\n",
            "14:\tlearn: 0.4475557\ttotal: 471ms\tremaining: 31s\n",
            "15:\tlearn: 0.4376751\ttotal: 490ms\tremaining: 30.1s\n",
            "16:\tlearn: 0.4280120\ttotal: 510ms\tremaining: 29.5s\n",
            "17:\tlearn: 0.4199638\ttotal: 537ms\tremaining: 29.3s\n",
            "18:\tlearn: 0.4117921\ttotal: 561ms\tremaining: 29s\n",
            "19:\tlearn: 0.4033614\ttotal: 573ms\tremaining: 28.1s\n",
            "20:\tlearn: 0.3976161\ttotal: 595ms\tremaining: 27.7s\n",
            "21:\tlearn: 0.3874251\ttotal: 619ms\tremaining: 27.5s\n",
            "22:\tlearn: 0.3799717\ttotal: 643ms\tremaining: 27.3s\n",
            "23:\tlearn: 0.3722008\ttotal: 709ms\tremaining: 28.8s\n",
            "24:\tlearn: 0.3658070\ttotal: 749ms\tremaining: 29.2s\n",
            "25:\tlearn: 0.3593037\ttotal: 796ms\tremaining: 29.8s\n",
            "26:\tlearn: 0.3543196\ttotal: 822ms\tremaining: 29.6s\n",
            "27:\tlearn: 0.3492670\ttotal: 852ms\tremaining: 29.6s\n",
            "28:\tlearn: 0.3435658\ttotal: 876ms\tremaining: 29.3s\n",
            "29:\tlearn: 0.3385011\ttotal: 891ms\tremaining: 28.8s\n",
            "30:\tlearn: 0.3334291\ttotal: 913ms\tremaining: 28.6s\n",
            "31:\tlearn: 0.3279181\ttotal: 935ms\tremaining: 28.3s\n",
            "32:\tlearn: 0.3229124\ttotal: 958ms\tremaining: 28.1s\n",
            "33:\tlearn: 0.3186789\ttotal: 983ms\tremaining: 27.9s\n",
            "34:\tlearn: 0.3141711\ttotal: 1.01s\tremaining: 27.8s\n",
            "35:\tlearn: 0.3098457\ttotal: 1.03s\tremaining: 27.6s\n",
            "36:\tlearn: 0.3057598\ttotal: 1.07s\tremaining: 27.8s\n",
            "37:\tlearn: 0.3015260\ttotal: 1.09s\tremaining: 27.6s\n",
            "38:\tlearn: 0.2981737\ttotal: 1.11s\tremaining: 27.3s\n",
            "39:\tlearn: 0.2950500\ttotal: 1.12s\tremaining: 26.9s\n",
            "40:\tlearn: 0.2895233\ttotal: 1.13s\tremaining: 26.4s\n",
            "41:\tlearn: 0.2861024\ttotal: 1.14s\tremaining: 26s\n",
            "42:\tlearn: 0.2827754\ttotal: 1.15s\tremaining: 25.6s\n",
            "43:\tlearn: 0.2801944\ttotal: 1.16s\tremaining: 25.2s\n",
            "44:\tlearn: 0.2766873\ttotal: 1.17s\tremaining: 24.8s\n",
            "45:\tlearn: 0.2734305\ttotal: 1.18s\tremaining: 24.5s\n",
            "46:\tlearn: 0.2708255\ttotal: 1.19s\tremaining: 24.2s\n",
            "47:\tlearn: 0.2679674\ttotal: 1.21s\tremaining: 24s\n",
            "48:\tlearn: 0.2648033\ttotal: 1.22s\tremaining: 23.8s\n",
            "49:\tlearn: 0.2620102\ttotal: 1.25s\tremaining: 23.7s\n",
            "50:\tlearn: 0.2596097\ttotal: 1.27s\tremaining: 23.6s\n",
            "51:\tlearn: 0.2571945\ttotal: 1.29s\tremaining: 23.5s\n",
            "52:\tlearn: 0.2554293\ttotal: 1.31s\tremaining: 23.5s\n",
            "53:\tlearn: 0.2537580\ttotal: 1.34s\tremaining: 23.4s\n",
            "54:\tlearn: 0.2517825\ttotal: 1.36s\tremaining: 23.5s\n",
            "55:\tlearn: 0.2498591\ttotal: 1.39s\tremaining: 23.4s\n",
            "56:\tlearn: 0.2483347\ttotal: 1.41s\tremaining: 23.3s\n",
            "57:\tlearn: 0.2467074\ttotal: 1.45s\tremaining: 23.6s\n",
            "58:\tlearn: 0.2445476\ttotal: 1.48s\tremaining: 23.6s\n",
            "59:\tlearn: 0.2427366\ttotal: 1.51s\tremaining: 23.6s\n",
            "60:\tlearn: 0.2405916\ttotal: 1.53s\tremaining: 23.6s\n",
            "61:\tlearn: 0.2389262\ttotal: 1.55s\tremaining: 23.5s\n",
            "62:\tlearn: 0.2373685\ttotal: 1.58s\tremaining: 23.5s\n",
            "63:\tlearn: 0.2356085\ttotal: 1.6s\tremaining: 23.5s\n",
            "64:\tlearn: 0.2335885\ttotal: 1.63s\tremaining: 23.4s\n",
            "65:\tlearn: 0.2315270\ttotal: 1.69s\tremaining: 23.9s\n",
            "66:\tlearn: 0.2297144\ttotal: 1.7s\tremaining: 23.7s\n",
            "67:\tlearn: 0.2272460\ttotal: 1.72s\tremaining: 23.5s\n",
            "68:\tlearn: 0.2258818\ttotal: 1.77s\tremaining: 23.9s\n",
            "69:\tlearn: 0.2246410\ttotal: 1.79s\tremaining: 23.8s\n",
            "70:\tlearn: 0.2231903\ttotal: 1.82s\tremaining: 23.8s\n",
            "71:\tlearn: 0.2212317\ttotal: 1.84s\tremaining: 23.7s\n",
            "72:\tlearn: 0.2199962\ttotal: 1.86s\tremaining: 23.6s\n",
            "73:\tlearn: 0.2190900\ttotal: 1.88s\tremaining: 23.5s\n",
            "74:\tlearn: 0.2172716\ttotal: 1.89s\tremaining: 23.2s\n",
            "75:\tlearn: 0.2158971\ttotal: 1.9s\tremaining: 23.1s\n",
            "76:\tlearn: 0.2147974\ttotal: 1.91s\tremaining: 22.9s\n",
            "77:\tlearn: 0.2135119\ttotal: 1.92s\tremaining: 22.7s\n",
            "78:\tlearn: 0.2120417\ttotal: 1.95s\tremaining: 22.8s\n",
            "79:\tlearn: 0.2107517\ttotal: 1.97s\tremaining: 22.6s\n",
            "80:\tlearn: 0.2088512\ttotal: 1.98s\tremaining: 22.5s\n",
            "81:\tlearn: 0.2077053\ttotal: 1.99s\tremaining: 22.3s\n",
            "82:\tlearn: 0.2061368\ttotal: 2s\tremaining: 22.1s\n",
            "83:\tlearn: 0.2052473\ttotal: 2.01s\tremaining: 22s\n",
            "84:\tlearn: 0.2042142\ttotal: 2.03s\tremaining: 21.9s\n",
            "85:\tlearn: 0.2035080\ttotal: 2.06s\tremaining: 21.9s\n",
            "86:\tlearn: 0.2021979\ttotal: 2.08s\tremaining: 21.9s\n",
            "87:\tlearn: 0.2013468\ttotal: 2.1s\tremaining: 21.7s\n",
            "88:\tlearn: 0.2004825\ttotal: 2.11s\tremaining: 21.6s\n",
            "89:\tlearn: 0.1988826\ttotal: 2.12s\tremaining: 21.4s\n",
            "90:\tlearn: 0.1976128\ttotal: 2.14s\tremaining: 21.4s\n",
            "91:\tlearn: 0.1967242\ttotal: 2.19s\tremaining: 21.6s\n",
            "92:\tlearn: 0.1960577\ttotal: 2.2s\tremaining: 21.5s\n",
            "93:\tlearn: 0.1943844\ttotal: 2.21s\tremaining: 21.3s\n",
            "94:\tlearn: 0.1927901\ttotal: 2.22s\tremaining: 21.2s\n",
            "95:\tlearn: 0.1917741\ttotal: 2.24s\tremaining: 21.1s\n",
            "96:\tlearn: 0.1911008\ttotal: 2.25s\tremaining: 21s\n",
            "97:\tlearn: 0.1901058\ttotal: 2.27s\tremaining: 20.9s\n",
            "98:\tlearn: 0.1892392\ttotal: 2.29s\tremaining: 20.9s\n",
            "99:\tlearn: 0.1879930\ttotal: 2.32s\tremaining: 20.9s\n",
            "100:\tlearn: 0.1868099\ttotal: 2.37s\tremaining: 21.1s\n",
            "101:\tlearn: 0.1860639\ttotal: 2.41s\tremaining: 21.2s\n",
            "102:\tlearn: 0.1854851\ttotal: 2.46s\tremaining: 21.4s\n",
            "103:\tlearn: 0.1844187\ttotal: 2.48s\tremaining: 21.4s\n",
            "104:\tlearn: 0.1834587\ttotal: 2.51s\tremaining: 21.4s\n",
            "105:\tlearn: 0.1814298\ttotal: 2.53s\tremaining: 21.3s\n",
            "106:\tlearn: 0.1801376\ttotal: 2.56s\tremaining: 21.3s\n",
            "107:\tlearn: 0.1785178\ttotal: 2.6s\tremaining: 21.4s\n",
            "108:\tlearn: 0.1769975\ttotal: 2.62s\tremaining: 21.5s\n",
            "109:\tlearn: 0.1759454\ttotal: 2.65s\tremaining: 21.4s\n",
            "110:\tlearn: 0.1751618\ttotal: 2.71s\tremaining: 21.7s\n",
            "111:\tlearn: 0.1743422\ttotal: 2.73s\tremaining: 21.7s\n",
            "112:\tlearn: 0.1736101\ttotal: 2.77s\tremaining: 21.8s\n",
            "113:\tlearn: 0.1729105\ttotal: 2.8s\tremaining: 21.8s\n",
            "114:\tlearn: 0.1716479\ttotal: 2.83s\tremaining: 21.8s\n",
            "115:\tlearn: 0.1707568\ttotal: 2.85s\tremaining: 21.7s\n",
            "116:\tlearn: 0.1698389\ttotal: 2.89s\tremaining: 21.8s\n",
            "117:\tlearn: 0.1693712\ttotal: 2.92s\tremaining: 21.8s\n",
            "118:\tlearn: 0.1682240\ttotal: 2.96s\tremaining: 21.9s\n",
            "119:\tlearn: 0.1671130\ttotal: 2.98s\tremaining: 21.9s\n",
            "120:\tlearn: 0.1664209\ttotal: 3.02s\tremaining: 21.9s\n",
            "121:\tlearn: 0.1652001\ttotal: 3.04s\tremaining: 21.9s\n",
            "122:\tlearn: 0.1648226\ttotal: 3.06s\tremaining: 21.8s\n",
            "123:\tlearn: 0.1638407\ttotal: 3.08s\tremaining: 21.8s\n",
            "124:\tlearn: 0.1627197\ttotal: 3.1s\tremaining: 21.7s\n",
            "125:\tlearn: 0.1616640\ttotal: 3.13s\tremaining: 21.7s\n",
            "126:\tlearn: 0.1611010\ttotal: 3.18s\tremaining: 21.8s\n",
            "127:\tlearn: 0.1606701\ttotal: 3.2s\tremaining: 21.8s\n",
            "128:\tlearn: 0.1598556\ttotal: 3.21s\tremaining: 21.7s\n",
            "129:\tlearn: 0.1591782\ttotal: 3.26s\tremaining: 21.8s\n",
            "130:\tlearn: 0.1584773\ttotal: 3.3s\tremaining: 21.9s\n",
            "131:\tlearn: 0.1579486\ttotal: 3.32s\tremaining: 21.8s\n",
            "132:\tlearn: 0.1572552\ttotal: 3.35s\tremaining: 21.8s\n",
            "133:\tlearn: 0.1563989\ttotal: 3.39s\tremaining: 21.9s\n",
            "134:\tlearn: 0.1551073\ttotal: 3.4s\tremaining: 21.8s\n",
            "135:\tlearn: 0.1546696\ttotal: 3.41s\tremaining: 21.6s\n",
            "136:\tlearn: 0.1542600\ttotal: 3.42s\tremaining: 21.6s\n",
            "137:\tlearn: 0.1531569\ttotal: 3.44s\tremaining: 21.5s\n",
            "138:\tlearn: 0.1524962\ttotal: 3.46s\tremaining: 21.4s\n",
            "139:\tlearn: 0.1520977\ttotal: 3.49s\tremaining: 21.4s\n",
            "140:\tlearn: 0.1512963\ttotal: 3.52s\tremaining: 21.5s\n",
            "141:\tlearn: 0.1508043\ttotal: 3.56s\tremaining: 21.5s\n",
            "142:\tlearn: 0.1497724\ttotal: 3.59s\tremaining: 21.5s\n",
            "143:\tlearn: 0.1492717\ttotal: 3.6s\tremaining: 21.4s\n",
            "144:\tlearn: 0.1488766\ttotal: 3.61s\tremaining: 21.3s\n",
            "145:\tlearn: 0.1484972\ttotal: 3.62s\tremaining: 21.2s\n",
            "146:\tlearn: 0.1477252\ttotal: 3.65s\tremaining: 21.2s\n",
            "147:\tlearn: 0.1466540\ttotal: 3.68s\tremaining: 21.2s\n",
            "148:\tlearn: 0.1461306\ttotal: 3.71s\tremaining: 21.2s\n",
            "149:\tlearn: 0.1453285\ttotal: 3.74s\tremaining: 21.2s\n",
            "150:\tlearn: 0.1449740\ttotal: 3.78s\tremaining: 21.3s\n",
            "151:\tlearn: 0.1443613\ttotal: 3.81s\tremaining: 21.3s\n",
            "152:\tlearn: 0.1440125\ttotal: 3.85s\tremaining: 21.3s\n",
            "153:\tlearn: 0.1431412\ttotal: 3.89s\tremaining: 21.3s\n",
            "154:\tlearn: 0.1426328\ttotal: 3.92s\tremaining: 21.4s\n",
            "155:\tlearn: 0.1421469\ttotal: 3.96s\tremaining: 21.4s\n",
            "156:\tlearn: 0.1414012\ttotal: 4s\tremaining: 21.5s\n",
            "157:\tlearn: 0.1411235\ttotal: 4.02s\tremaining: 21.4s\n",
            "158:\tlearn: 0.1401422\ttotal: 4.07s\tremaining: 21.5s\n",
            "159:\tlearn: 0.1396559\ttotal: 4.11s\tremaining: 21.6s\n",
            "160:\tlearn: 0.1389525\ttotal: 4.13s\tremaining: 21.6s\n",
            "161:\tlearn: 0.1384491\ttotal: 4.17s\tremaining: 21.5s\n",
            "162:\tlearn: 0.1377168\ttotal: 4.19s\tremaining: 21.5s\n",
            "163:\tlearn: 0.1372630\ttotal: 4.22s\tremaining: 21.5s\n",
            "164:\tlearn: 0.1367535\ttotal: 4.25s\tremaining: 21.5s\n",
            "165:\tlearn: 0.1364030\ttotal: 4.29s\tremaining: 21.5s\n",
            "166:\tlearn: 0.1360349\ttotal: 4.31s\tremaining: 21.5s\n",
            "167:\tlearn: 0.1357004\ttotal: 4.34s\tremaining: 21.5s\n",
            "168:\tlearn: 0.1350789\ttotal: 4.37s\tremaining: 21.5s\n",
            "169:\tlearn: 0.1346862\ttotal: 4.4s\tremaining: 21.5s\n",
            "170:\tlearn: 0.1339599\ttotal: 4.43s\tremaining: 21.5s\n",
            "171:\tlearn: 0.1333661\ttotal: 4.45s\tremaining: 21.4s\n",
            "172:\tlearn: 0.1328941\ttotal: 4.47s\tremaining: 21.4s\n",
            "173:\tlearn: 0.1322745\ttotal: 4.48s\tremaining: 21.3s\n",
            "174:\tlearn: 0.1317301\ttotal: 4.49s\tremaining: 21.2s\n",
            "175:\tlearn: 0.1311718\ttotal: 4.5s\tremaining: 21.1s\n",
            "176:\tlearn: 0.1307649\ttotal: 4.52s\tremaining: 21s\n",
            "177:\tlearn: 0.1304166\ttotal: 4.55s\tremaining: 21s\n",
            "178:\tlearn: 0.1300152\ttotal: 4.58s\tremaining: 21s\n",
            "179:\tlearn: 0.1296843\ttotal: 4.62s\tremaining: 21s\n",
            "180:\tlearn: 0.1293137\ttotal: 4.64s\tremaining: 21s\n",
            "181:\tlearn: 0.1285755\ttotal: 4.66s\tremaining: 21s\n",
            "182:\tlearn: 0.1282519\ttotal: 4.68s\tremaining: 20.9s\n",
            "183:\tlearn: 0.1278687\ttotal: 4.7s\tremaining: 20.8s\n",
            "184:\tlearn: 0.1274514\ttotal: 4.72s\tremaining: 20.8s\n",
            "185:\tlearn: 0.1270414\ttotal: 4.74s\tremaining: 20.8s\n",
            "186:\tlearn: 0.1264852\ttotal: 4.78s\tremaining: 20.8s\n",
            "187:\tlearn: 0.1261628\ttotal: 4.83s\tremaining: 20.9s\n",
            "188:\tlearn: 0.1254652\ttotal: 4.88s\tremaining: 20.9s\n",
            "189:\tlearn: 0.1249193\ttotal: 4.92s\tremaining: 21s\n",
            "190:\tlearn: 0.1243789\ttotal: 4.96s\tremaining: 21s\n",
            "191:\tlearn: 0.1236954\ttotal: 4.99s\tremaining: 21s\n",
            "192:\tlearn: 0.1231626\ttotal: 5.03s\tremaining: 21s\n",
            "193:\tlearn: 0.1226083\ttotal: 5.05s\tremaining: 21s\n",
            "194:\tlearn: 0.1223364\ttotal: 5.08s\tremaining: 21s\n",
            "195:\tlearn: 0.1219265\ttotal: 5.1s\tremaining: 20.9s\n",
            "196:\tlearn: 0.1216866\ttotal: 5.12s\tremaining: 20.9s\n",
            "197:\tlearn: 0.1212905\ttotal: 5.16s\tremaining: 20.9s\n",
            "198:\tlearn: 0.1210344\ttotal: 5.21s\tremaining: 21s\n",
            "199:\tlearn: 0.1207206\ttotal: 5.24s\tremaining: 21s\n",
            "200:\tlearn: 0.1201522\ttotal: 5.26s\tremaining: 20.9s\n",
            "201:\tlearn: 0.1197748\ttotal: 5.28s\tremaining: 20.8s\n",
            "202:\tlearn: 0.1195130\ttotal: 5.29s\tremaining: 20.8s\n",
            "203:\tlearn: 0.1186974\ttotal: 5.31s\tremaining: 20.7s\n",
            "204:\tlearn: 0.1184781\ttotal: 5.34s\tremaining: 20.7s\n",
            "205:\tlearn: 0.1179451\ttotal: 5.36s\tremaining: 20.7s\n",
            "206:\tlearn: 0.1175377\ttotal: 5.39s\tremaining: 20.6s\n",
            "207:\tlearn: 0.1170444\ttotal: 5.41s\tremaining: 20.6s\n",
            "208:\tlearn: 0.1163916\ttotal: 5.43s\tremaining: 20.6s\n",
            "209:\tlearn: 0.1160777\ttotal: 5.45s\tremaining: 20.5s\n",
            "210:\tlearn: 0.1158314\ttotal: 5.47s\tremaining: 20.5s\n",
            "211:\tlearn: 0.1154934\ttotal: 5.51s\tremaining: 20.5s\n",
            "212:\tlearn: 0.1152648\ttotal: 5.53s\tremaining: 20.4s\n",
            "213:\tlearn: 0.1148256\ttotal: 5.56s\tremaining: 20.4s\n",
            "214:\tlearn: 0.1141991\ttotal: 5.58s\tremaining: 20.4s\n",
            "215:\tlearn: 0.1138697\ttotal: 5.62s\tremaining: 20.4s\n",
            "216:\tlearn: 0.1134165\ttotal: 5.64s\tremaining: 20.4s\n",
            "217:\tlearn: 0.1131306\ttotal: 5.68s\tremaining: 20.4s\n",
            "218:\tlearn: 0.1128801\ttotal: 5.7s\tremaining: 20.3s\n",
            "219:\tlearn: 0.1125635\ttotal: 5.73s\tremaining: 20.3s\n",
            "220:\tlearn: 0.1120343\ttotal: 5.77s\tremaining: 20.3s\n",
            "221:\tlearn: 0.1115338\ttotal: 5.79s\tremaining: 20.3s\n",
            "222:\tlearn: 0.1112005\ttotal: 5.85s\tremaining: 20.4s\n",
            "223:\tlearn: 0.1107405\ttotal: 5.89s\tremaining: 20.4s\n",
            "224:\tlearn: 0.1104989\ttotal: 5.94s\tremaining: 20.5s\n",
            "225:\tlearn: 0.1102534\ttotal: 5.97s\tremaining: 20.4s\n",
            "226:\tlearn: 0.1100271\ttotal: 5.99s\tremaining: 20.4s\n",
            "227:\tlearn: 0.1097657\ttotal: 6.02s\tremaining: 20.4s\n",
            "228:\tlearn: 0.1091614\ttotal: 6.04s\tremaining: 20.3s\n",
            "229:\tlearn: 0.1086927\ttotal: 6.08s\tremaining: 20.3s\n",
            "230:\tlearn: 0.1083846\ttotal: 6.14s\tremaining: 20.4s\n",
            "231:\tlearn: 0.1078632\ttotal: 6.19s\tremaining: 20.5s\n",
            "232:\tlearn: 0.1075886\ttotal: 6.21s\tremaining: 20.4s\n",
            "233:\tlearn: 0.1073684\ttotal: 6.22s\tremaining: 20.4s\n",
            "234:\tlearn: 0.1070196\ttotal: 6.25s\tremaining: 20.3s\n",
            "235:\tlearn: 0.1066427\ttotal: 6.26s\tremaining: 20.3s\n",
            "236:\tlearn: 0.1063303\ttotal: 6.29s\tremaining: 20.2s\n",
            "237:\tlearn: 0.1060983\ttotal: 6.34s\tremaining: 20.3s\n",
            "238:\tlearn: 0.1057798\ttotal: 6.38s\tremaining: 20.3s\n",
            "239:\tlearn: 0.1052012\ttotal: 6.41s\tremaining: 20.3s\n",
            "240:\tlearn: 0.1049494\ttotal: 6.44s\tremaining: 20.3s\n",
            "241:\tlearn: 0.1044954\ttotal: 6.48s\tremaining: 20.3s\n",
            "242:\tlearn: 0.1040707\ttotal: 6.52s\tremaining: 20.3s\n",
            "243:\tlearn: 0.1038867\ttotal: 6.56s\tremaining: 20.3s\n",
            "244:\tlearn: 0.1036809\ttotal: 6.61s\tremaining: 20.4s\n",
            "245:\tlearn: 0.1033642\ttotal: 6.66s\tremaining: 20.4s\n",
            "246:\tlearn: 0.1032244\ttotal: 6.7s\tremaining: 20.4s\n",
            "247:\tlearn: 0.1029171\ttotal: 6.73s\tremaining: 20.4s\n",
            "248:\tlearn: 0.1025652\ttotal: 6.77s\tremaining: 20.4s\n",
            "249:\tlearn: 0.1020597\ttotal: 6.79s\tremaining: 20.4s\n",
            "250:\tlearn: 0.1018550\ttotal: 6.81s\tremaining: 20.3s\n",
            "251:\tlearn: 0.1015612\ttotal: 6.83s\tremaining: 20.3s\n",
            "252:\tlearn: 0.1012455\ttotal: 6.84s\tremaining: 20.2s\n",
            "253:\tlearn: 0.1009819\ttotal: 6.85s\tremaining: 20.1s\n",
            "254:\tlearn: 0.1007316\ttotal: 6.87s\tremaining: 20.1s\n",
            "255:\tlearn: 0.1004905\ttotal: 6.91s\tremaining: 20.1s\n",
            "256:\tlearn: 0.1000650\ttotal: 6.93s\tremaining: 20s\n",
            "257:\tlearn: 0.0995853\ttotal: 6.95s\tremaining: 20s\n",
            "258:\tlearn: 0.0994053\ttotal: 6.97s\tremaining: 19.9s\n",
            "259:\tlearn: 0.0992480\ttotal: 6.99s\tremaining: 19.9s\n",
            "260:\tlearn: 0.0988424\ttotal: 7.04s\tremaining: 19.9s\n",
            "261:\tlearn: 0.0986624\ttotal: 7.07s\tremaining: 19.9s\n",
            "262:\tlearn: 0.0985093\ttotal: 7.09s\tremaining: 19.9s\n",
            "263:\tlearn: 0.0982499\ttotal: 7.12s\tremaining: 19.8s\n",
            "264:\tlearn: 0.0977983\ttotal: 7.14s\tremaining: 19.8s\n",
            "265:\tlearn: 0.0976080\ttotal: 7.17s\tremaining: 19.8s\n",
            "266:\tlearn: 0.0972444\ttotal: 7.19s\tremaining: 19.7s\n",
            "267:\tlearn: 0.0969191\ttotal: 7.22s\tremaining: 19.7s\n",
            "268:\tlearn: 0.0965089\ttotal: 7.25s\tremaining: 19.7s\n",
            "269:\tlearn: 0.0960295\ttotal: 7.27s\tremaining: 19.6s\n",
            "270:\tlearn: 0.0957074\ttotal: 7.3s\tremaining: 19.6s\n",
            "271:\tlearn: 0.0952579\ttotal: 7.33s\tremaining: 19.6s\n",
            "272:\tlearn: 0.0950344\ttotal: 7.37s\tremaining: 19.6s\n",
            "273:\tlearn: 0.0948331\ttotal: 7.4s\tremaining: 19.6s\n",
            "274:\tlearn: 0.0944346\ttotal: 7.43s\tremaining: 19.6s\n",
            "275:\tlearn: 0.0942944\ttotal: 7.45s\tremaining: 19.5s\n",
            "276:\tlearn: 0.0939739\ttotal: 7.47s\tremaining: 19.5s\n",
            "277:\tlearn: 0.0937126\ttotal: 7.49s\tremaining: 19.5s\n",
            "278:\tlearn: 0.0935857\ttotal: 7.51s\tremaining: 19.4s\n",
            "279:\tlearn: 0.0932127\ttotal: 7.54s\tremaining: 19.4s\n",
            "280:\tlearn: 0.0928748\ttotal: 7.56s\tremaining: 19.3s\n",
            "281:\tlearn: 0.0926092\ttotal: 7.59s\tremaining: 19.3s\n",
            "282:\tlearn: 0.0924691\ttotal: 7.62s\tremaining: 19.3s\n",
            "283:\tlearn: 0.0923109\ttotal: 7.66s\tremaining: 19.3s\n",
            "284:\tlearn: 0.0921589\ttotal: 7.69s\tremaining: 19.3s\n",
            "285:\tlearn: 0.0919679\ttotal: 7.72s\tremaining: 19.3s\n",
            "286:\tlearn: 0.0917059\ttotal: 7.75s\tremaining: 19.2s\n",
            "287:\tlearn: 0.0914910\ttotal: 7.78s\tremaining: 19.2s\n",
            "288:\tlearn: 0.0913324\ttotal: 7.81s\tremaining: 19.2s\n",
            "289:\tlearn: 0.0909469\ttotal: 7.84s\tremaining: 19.2s\n",
            "290:\tlearn: 0.0907351\ttotal: 7.86s\tremaining: 19.2s\n",
            "291:\tlearn: 0.0905025\ttotal: 7.89s\tremaining: 19.1s\n",
            "292:\tlearn: 0.0903534\ttotal: 7.91s\tremaining: 19.1s\n",
            "293:\tlearn: 0.0902202\ttotal: 7.93s\tremaining: 19.1s\n",
            "294:\tlearn: 0.0900327\ttotal: 7.95s\tremaining: 19s\n",
            "295:\tlearn: 0.0897469\ttotal: 7.95s\tremaining: 18.9s\n",
            "296:\tlearn: 0.0895752\ttotal: 7.98s\tremaining: 18.9s\n",
            "297:\tlearn: 0.0893653\ttotal: 8s\tremaining: 18.8s\n",
            "298:\tlearn: 0.0891328\ttotal: 8.03s\tremaining: 18.8s\n",
            "299:\tlearn: 0.0889491\ttotal: 8.05s\tremaining: 18.8s\n",
            "300:\tlearn: 0.0888157\ttotal: 8.08s\tremaining: 18.8s\n",
            "301:\tlearn: 0.0886818\ttotal: 8.11s\tremaining: 18.7s\n",
            "302:\tlearn: 0.0884574\ttotal: 8.13s\tremaining: 18.7s\n",
            "303:\tlearn: 0.0882224\ttotal: 8.15s\tremaining: 18.7s\n",
            "304:\tlearn: 0.0880664\ttotal: 8.18s\tremaining: 18.6s\n",
            "305:\tlearn: 0.0878902\ttotal: 8.19s\tremaining: 18.6s\n",
            "306:\tlearn: 0.0876828\ttotal: 8.21s\tremaining: 18.5s\n",
            "307:\tlearn: 0.0874733\ttotal: 8.24s\tremaining: 18.5s\n",
            "308:\tlearn: 0.0872683\ttotal: 8.27s\tremaining: 18.5s\n",
            "309:\tlearn: 0.0869995\ttotal: 8.29s\tremaining: 18.4s\n",
            "310:\tlearn: 0.0866899\ttotal: 8.3s\tremaining: 18.4s\n",
            "311:\tlearn: 0.0864386\ttotal: 8.32s\tremaining: 18.4s\n",
            "312:\tlearn: 0.0862168\ttotal: 8.35s\tremaining: 18.3s\n",
            "313:\tlearn: 0.0860290\ttotal: 8.37s\tremaining: 18.3s\n",
            "314:\tlearn: 0.0858614\ttotal: 8.39s\tremaining: 18.2s\n",
            "315:\tlearn: 0.0856737\ttotal: 8.41s\tremaining: 18.2s\n",
            "316:\tlearn: 0.0854323\ttotal: 8.44s\tremaining: 18.2s\n",
            "317:\tlearn: 0.0849140\ttotal: 8.46s\tremaining: 18.1s\n",
            "318:\tlearn: 0.0846543\ttotal: 8.49s\tremaining: 18.1s\n",
            "319:\tlearn: 0.0845480\ttotal: 8.51s\tremaining: 18.1s\n",
            "320:\tlearn: 0.0843836\ttotal: 8.55s\tremaining: 18.1s\n",
            "321:\tlearn: 0.0841881\ttotal: 8.57s\tremaining: 18s\n",
            "322:\tlearn: 0.0840694\ttotal: 8.61s\tremaining: 18s\n",
            "323:\tlearn: 0.0838733\ttotal: 8.65s\tremaining: 18s\n",
            "324:\tlearn: 0.0836860\ttotal: 8.67s\tremaining: 18s\n",
            "325:\tlearn: 0.0833679\ttotal: 8.69s\tremaining: 18s\n",
            "326:\tlearn: 0.0831757\ttotal: 8.71s\tremaining: 17.9s\n",
            "327:\tlearn: 0.0828722\ttotal: 8.74s\tremaining: 17.9s\n",
            "328:\tlearn: 0.0827232\ttotal: 8.76s\tremaining: 17.9s\n",
            "329:\tlearn: 0.0825637\ttotal: 8.78s\tremaining: 17.8s\n",
            "330:\tlearn: 0.0824089\ttotal: 8.81s\tremaining: 17.8s\n",
            "331:\tlearn: 0.0821075\ttotal: 8.83s\tremaining: 17.8s\n",
            "332:\tlearn: 0.0819198\ttotal: 8.86s\tremaining: 17.7s\n",
            "333:\tlearn: 0.0817456\ttotal: 8.88s\tremaining: 17.7s\n",
            "334:\tlearn: 0.0815479\ttotal: 8.9s\tremaining: 17.7s\n",
            "335:\tlearn: 0.0813252\ttotal: 8.92s\tremaining: 17.6s\n",
            "336:\tlearn: 0.0810859\ttotal: 8.95s\tremaining: 17.6s\n",
            "337:\tlearn: 0.0809381\ttotal: 8.97s\tremaining: 17.6s\n",
            "338:\tlearn: 0.0807648\ttotal: 8.99s\tremaining: 17.5s\n",
            "339:\tlearn: 0.0806507\ttotal: 9.02s\tremaining: 17.5s\n",
            "340:\tlearn: 0.0804401\ttotal: 9.03s\tremaining: 17.5s\n",
            "341:\tlearn: 0.0801384\ttotal: 9.07s\tremaining: 17.4s\n",
            "342:\tlearn: 0.0799611\ttotal: 9.09s\tremaining: 17.4s\n",
            "343:\tlearn: 0.0798222\ttotal: 9.11s\tremaining: 17.4s\n",
            "344:\tlearn: 0.0796592\ttotal: 9.14s\tremaining: 17.3s\n",
            "345:\tlearn: 0.0794595\ttotal: 9.15s\tremaining: 17.3s\n",
            "346:\tlearn: 0.0793154\ttotal: 9.18s\tremaining: 17.3s\n",
            "347:\tlearn: 0.0792180\ttotal: 9.2s\tremaining: 17.2s\n",
            "348:\tlearn: 0.0790098\ttotal: 9.22s\tremaining: 17.2s\n",
            "349:\tlearn: 0.0788724\ttotal: 9.24s\tremaining: 17.2s\n",
            "350:\tlearn: 0.0787154\ttotal: 9.27s\tremaining: 17.1s\n",
            "351:\tlearn: 0.0785911\ttotal: 9.29s\tremaining: 17.1s\n",
            "352:\tlearn: 0.0783919\ttotal: 9.32s\tremaining: 17.1s\n",
            "353:\tlearn: 0.0781636\ttotal: 9.34s\tremaining: 17s\n",
            "354:\tlearn: 0.0780086\ttotal: 9.36s\tremaining: 17s\n",
            "355:\tlearn: 0.0776317\ttotal: 9.38s\tremaining: 17s\n",
            "356:\tlearn: 0.0775044\ttotal: 9.4s\tremaining: 16.9s\n",
            "357:\tlearn: 0.0773338\ttotal: 9.42s\tremaining: 16.9s\n",
            "358:\tlearn: 0.0771221\ttotal: 9.44s\tremaining: 16.9s\n",
            "359:\tlearn: 0.0766475\ttotal: 9.46s\tremaining: 16.8s\n",
            "360:\tlearn: 0.0763773\ttotal: 9.49s\tremaining: 16.8s\n",
            "361:\tlearn: 0.0761489\ttotal: 9.52s\tremaining: 16.8s\n",
            "362:\tlearn: 0.0759489\ttotal: 9.54s\tremaining: 16.7s\n",
            "363:\tlearn: 0.0757917\ttotal: 9.57s\tremaining: 16.7s\n",
            "364:\tlearn: 0.0756218\ttotal: 9.6s\tremaining: 16.7s\n",
            "365:\tlearn: 0.0752889\ttotal: 9.62s\tremaining: 16.7s\n",
            "366:\tlearn: 0.0751144\ttotal: 9.64s\tremaining: 16.6s\n",
            "367:\tlearn: 0.0749655\ttotal: 9.67s\tremaining: 16.6s\n",
            "368:\tlearn: 0.0747927\ttotal: 9.7s\tremaining: 16.6s\n",
            "369:\tlearn: 0.0745758\ttotal: 9.71s\tremaining: 16.5s\n",
            "370:\tlearn: 0.0743190\ttotal: 9.74s\tremaining: 16.5s\n",
            "371:\tlearn: 0.0740217\ttotal: 9.77s\tremaining: 16.5s\n",
            "372:\tlearn: 0.0738258\ttotal: 9.8s\tremaining: 16.5s\n",
            "373:\tlearn: 0.0735972\ttotal: 9.83s\tremaining: 16.5s\n",
            "374:\tlearn: 0.0734600\ttotal: 9.86s\tremaining: 16.4s\n",
            "375:\tlearn: 0.0733578\ttotal: 9.9s\tremaining: 16.4s\n",
            "376:\tlearn: 0.0732122\ttotal: 9.93s\tremaining: 16.4s\n",
            "377:\tlearn: 0.0729664\ttotal: 9.95s\tremaining: 16.4s\n",
            "378:\tlearn: 0.0728339\ttotal: 9.98s\tremaining: 16.4s\n",
            "379:\tlearn: 0.0726708\ttotal: 10s\tremaining: 16.3s\n",
            "380:\tlearn: 0.0724493\ttotal: 10.1s\tremaining: 16.3s\n",
            "381:\tlearn: 0.0723198\ttotal: 10.1s\tremaining: 16.3s\n",
            "382:\tlearn: 0.0721587\ttotal: 10.1s\tremaining: 16.3s\n",
            "383:\tlearn: 0.0717012\ttotal: 10.2s\tremaining: 16.3s\n",
            "384:\tlearn: 0.0716157\ttotal: 10.2s\tremaining: 16.3s\n",
            "385:\tlearn: 0.0713594\ttotal: 10.3s\tremaining: 16.3s\n",
            "386:\tlearn: 0.0712360\ttotal: 10.3s\tremaining: 16.3s\n",
            "387:\tlearn: 0.0711171\ttotal: 10.3s\tremaining: 16.3s\n",
            "388:\tlearn: 0.0709950\ttotal: 10.4s\tremaining: 16.3s\n",
            "389:\tlearn: 0.0708936\ttotal: 10.4s\tremaining: 16.2s\n",
            "390:\tlearn: 0.0706900\ttotal: 10.4s\tremaining: 16.2s\n",
            "391:\tlearn: 0.0705370\ttotal: 10.4s\tremaining: 16.2s\n",
            "392:\tlearn: 0.0704596\ttotal: 10.5s\tremaining: 16.2s\n",
            "393:\tlearn: 0.0702262\ttotal: 10.5s\tremaining: 16.1s\n",
            "394:\tlearn: 0.0700915\ttotal: 10.5s\tremaining: 16.1s\n",
            "395:\tlearn: 0.0698856\ttotal: 10.6s\tremaining: 16.1s\n",
            "396:\tlearn: 0.0696603\ttotal: 10.6s\tremaining: 16.1s\n",
            "397:\tlearn: 0.0695096\ttotal: 10.6s\tremaining: 16s\n",
            "398:\tlearn: 0.0693821\ttotal: 10.6s\tremaining: 16s\n",
            "399:\tlearn: 0.0692257\ttotal: 10.6s\tremaining: 15.9s\n",
            "400:\tlearn: 0.0690458\ttotal: 10.7s\tremaining: 15.9s\n",
            "401:\tlearn: 0.0688184\ttotal: 10.7s\tremaining: 15.9s\n",
            "402:\tlearn: 0.0685835\ttotal: 10.7s\tremaining: 15.8s\n",
            "403:\tlearn: 0.0683916\ttotal: 10.7s\tremaining: 15.8s\n",
            "404:\tlearn: 0.0682367\ttotal: 10.7s\tremaining: 15.8s\n",
            "405:\tlearn: 0.0680071\ttotal: 10.8s\tremaining: 15.7s\n",
            "406:\tlearn: 0.0679097\ttotal: 10.8s\tremaining: 15.7s\n",
            "407:\tlearn: 0.0677193\ttotal: 10.8s\tremaining: 15.7s\n",
            "408:\tlearn: 0.0674349\ttotal: 10.8s\tremaining: 15.6s\n",
            "409:\tlearn: 0.0673127\ttotal: 10.8s\tremaining: 15.6s\n",
            "410:\tlearn: 0.0670668\ttotal: 10.9s\tremaining: 15.6s\n",
            "411:\tlearn: 0.0668301\ttotal: 10.9s\tremaining: 15.5s\n",
            "412:\tlearn: 0.0667674\ttotal: 10.9s\tremaining: 15.5s\n",
            "413:\tlearn: 0.0665916\ttotal: 10.9s\tremaining: 15.5s\n",
            "414:\tlearn: 0.0664865\ttotal: 11s\tremaining: 15.4s\n",
            "415:\tlearn: 0.0662662\ttotal: 11s\tremaining: 15.4s\n",
            "416:\tlearn: 0.0661514\ttotal: 11s\tremaining: 15.4s\n",
            "417:\tlearn: 0.0659152\ttotal: 11.1s\tremaining: 15.4s\n",
            "418:\tlearn: 0.0657678\ttotal: 11.1s\tremaining: 15.4s\n",
            "419:\tlearn: 0.0655925\ttotal: 11.1s\tremaining: 15.3s\n",
            "420:\tlearn: 0.0654391\ttotal: 11.1s\tremaining: 15.3s\n",
            "421:\tlearn: 0.0653529\ttotal: 11.1s\tremaining: 15.3s\n",
            "422:\tlearn: 0.0651652\ttotal: 11.2s\tremaining: 15.2s\n",
            "423:\tlearn: 0.0650968\ttotal: 11.2s\tremaining: 15.2s\n",
            "424:\tlearn: 0.0648813\ttotal: 11.2s\tremaining: 15.1s\n",
            "425:\tlearn: 0.0647098\ttotal: 11.2s\tremaining: 15.1s\n",
            "426:\tlearn: 0.0646448\ttotal: 11.2s\tremaining: 15.1s\n",
            "427:\tlearn: 0.0645555\ttotal: 11.2s\tremaining: 15s\n",
            "428:\tlearn: 0.0644436\ttotal: 11.2s\tremaining: 15s\n",
            "429:\tlearn: 0.0643086\ttotal: 11.3s\tremaining: 14.9s\n",
            "430:\tlearn: 0.0641618\ttotal: 11.3s\tremaining: 14.9s\n",
            "431:\tlearn: 0.0640547\ttotal: 11.3s\tremaining: 14.8s\n",
            "432:\tlearn: 0.0638986\ttotal: 11.3s\tremaining: 14.8s\n",
            "433:\tlearn: 0.0638303\ttotal: 11.3s\tremaining: 14.8s\n",
            "434:\tlearn: 0.0634852\ttotal: 11.4s\tremaining: 14.8s\n",
            "435:\tlearn: 0.0632621\ttotal: 11.4s\tremaining: 14.7s\n",
            "436:\tlearn: 0.0629653\ttotal: 11.4s\tremaining: 14.7s\n",
            "437:\tlearn: 0.0628134\ttotal: 11.4s\tremaining: 14.7s\n",
            "438:\tlearn: 0.0627608\ttotal: 11.5s\tremaining: 14.6s\n",
            "439:\tlearn: 0.0625671\ttotal: 11.5s\tremaining: 14.6s\n",
            "440:\tlearn: 0.0623788\ttotal: 11.5s\tremaining: 14.6s\n",
            "441:\tlearn: 0.0622476\ttotal: 11.5s\tremaining: 14.5s\n",
            "442:\tlearn: 0.0619762\ttotal: 11.5s\tremaining: 14.5s\n",
            "443:\tlearn: 0.0618706\ttotal: 11.5s\tremaining: 14.5s\n",
            "444:\tlearn: 0.0618010\ttotal: 11.6s\tremaining: 14.4s\n",
            "445:\tlearn: 0.0617053\ttotal: 11.6s\tremaining: 14.4s\n",
            "446:\tlearn: 0.0614896\ttotal: 11.6s\tremaining: 14.3s\n",
            "447:\tlearn: 0.0613417\ttotal: 11.6s\tremaining: 14.3s\n",
            "448:\tlearn: 0.0611691\ttotal: 11.6s\tremaining: 14.3s\n",
            "449:\tlearn: 0.0610139\ttotal: 11.6s\tremaining: 14.2s\n",
            "450:\tlearn: 0.0609034\ttotal: 11.6s\tremaining: 14.2s\n",
            "451:\tlearn: 0.0607420\ttotal: 11.7s\tremaining: 14.1s\n",
            "452:\tlearn: 0.0606608\ttotal: 11.7s\tremaining: 14.1s\n",
            "453:\tlearn: 0.0605575\ttotal: 11.7s\tremaining: 14s\n",
            "454:\tlearn: 0.0604704\ttotal: 11.7s\tremaining: 14s\n",
            "455:\tlearn: 0.0604013\ttotal: 11.7s\tremaining: 14s\n",
            "456:\tlearn: 0.0602551\ttotal: 11.7s\tremaining: 13.9s\n",
            "457:\tlearn: 0.0600965\ttotal: 11.7s\tremaining: 13.9s\n",
            "458:\tlearn: 0.0599517\ttotal: 11.7s\tremaining: 13.8s\n",
            "459:\tlearn: 0.0597648\ttotal: 11.7s\tremaining: 13.8s\n",
            "460:\tlearn: 0.0596227\ttotal: 11.8s\tremaining: 13.7s\n",
            "461:\tlearn: 0.0594209\ttotal: 11.8s\tremaining: 13.7s\n",
            "462:\tlearn: 0.0593115\ttotal: 11.8s\tremaining: 13.7s\n",
            "463:\tlearn: 0.0591104\ttotal: 11.8s\tremaining: 13.7s\n",
            "464:\tlearn: 0.0589281\ttotal: 11.8s\tremaining: 13.6s\n",
            "465:\tlearn: 0.0587561\ttotal: 11.9s\tremaining: 13.6s\n",
            "466:\tlearn: 0.0586480\ttotal: 11.9s\tremaining: 13.6s\n",
            "467:\tlearn: 0.0585708\ttotal: 11.9s\tremaining: 13.5s\n",
            "468:\tlearn: 0.0584761\ttotal: 11.9s\tremaining: 13.5s\n",
            "469:\tlearn: 0.0583770\ttotal: 11.9s\tremaining: 13.4s\n",
            "470:\tlearn: 0.0582412\ttotal: 11.9s\tremaining: 13.4s\n",
            "471:\tlearn: 0.0580624\ttotal: 12s\tremaining: 13.4s\n",
            "472:\tlearn: 0.0579000\ttotal: 12s\tremaining: 13.3s\n",
            "473:\tlearn: 0.0577783\ttotal: 12s\tremaining: 13.3s\n",
            "474:\tlearn: 0.0576887\ttotal: 12s\tremaining: 13.3s\n",
            "475:\tlearn: 0.0575341\ttotal: 12s\tremaining: 13.3s\n",
            "476:\tlearn: 0.0573817\ttotal: 12.1s\tremaining: 13.2s\n",
            "477:\tlearn: 0.0572891\ttotal: 12.1s\tremaining: 13.2s\n",
            "478:\tlearn: 0.0571865\ttotal: 12.1s\tremaining: 13.2s\n",
            "479:\tlearn: 0.0570377\ttotal: 12.1s\tremaining: 13.1s\n",
            "480:\tlearn: 0.0568433\ttotal: 12.1s\tremaining: 13.1s\n",
            "481:\tlearn: 0.0567714\ttotal: 12.1s\tremaining: 13.1s\n",
            "482:\tlearn: 0.0566208\ttotal: 12.2s\tremaining: 13s\n",
            "483:\tlearn: 0.0564780\ttotal: 12.2s\tremaining: 13s\n",
            "484:\tlearn: 0.0563833\ttotal: 12.2s\tremaining: 12.9s\n",
            "485:\tlearn: 0.0562816\ttotal: 12.2s\tremaining: 12.9s\n",
            "486:\tlearn: 0.0561325\ttotal: 12.2s\tremaining: 12.9s\n",
            "487:\tlearn: 0.0560143\ttotal: 12.2s\tremaining: 12.8s\n",
            "488:\tlearn: 0.0559197\ttotal: 12.3s\tremaining: 12.8s\n",
            "489:\tlearn: 0.0558052\ttotal: 12.3s\tremaining: 12.8s\n",
            "490:\tlearn: 0.0556423\ttotal: 12.3s\tremaining: 12.8s\n",
            "491:\tlearn: 0.0554458\ttotal: 12.3s\tremaining: 12.7s\n",
            "492:\tlearn: 0.0553105\ttotal: 12.3s\tremaining: 12.7s\n",
            "493:\tlearn: 0.0551659\ttotal: 12.4s\tremaining: 12.7s\n",
            "494:\tlearn: 0.0550575\ttotal: 12.4s\tremaining: 12.6s\n",
            "495:\tlearn: 0.0549348\ttotal: 12.4s\tremaining: 12.6s\n",
            "496:\tlearn: 0.0548499\ttotal: 12.4s\tremaining: 12.6s\n",
            "497:\tlearn: 0.0547723\ttotal: 12.5s\tremaining: 12.6s\n",
            "498:\tlearn: 0.0545780\ttotal: 12.5s\tremaining: 12.6s\n",
            "499:\tlearn: 0.0545265\ttotal: 12.6s\tremaining: 12.6s\n",
            "500:\tlearn: 0.0544449\ttotal: 12.6s\tremaining: 12.5s\n",
            "501:\tlearn: 0.0543723\ttotal: 12.6s\tremaining: 12.5s\n",
            "502:\tlearn: 0.0542524\ttotal: 12.7s\tremaining: 12.5s\n",
            "503:\tlearn: 0.0540896\ttotal: 12.7s\tremaining: 12.5s\n",
            "504:\tlearn: 0.0539040\ttotal: 12.7s\tremaining: 12.5s\n",
            "505:\tlearn: 0.0538152\ttotal: 12.8s\tremaining: 12.5s\n",
            "506:\tlearn: 0.0537417\ttotal: 12.8s\tremaining: 12.4s\n",
            "507:\tlearn: 0.0536511\ttotal: 12.8s\tremaining: 12.4s\n",
            "508:\tlearn: 0.0535527\ttotal: 12.9s\tremaining: 12.4s\n",
            "509:\tlearn: 0.0534555\ttotal: 12.9s\tremaining: 12.4s\n",
            "510:\tlearn: 0.0533822\ttotal: 12.9s\tremaining: 12.4s\n",
            "511:\tlearn: 0.0532578\ttotal: 13s\tremaining: 12.4s\n",
            "512:\tlearn: 0.0531328\ttotal: 13s\tremaining: 12.3s\n",
            "513:\tlearn: 0.0530601\ttotal: 13s\tremaining: 12.3s\n",
            "514:\tlearn: 0.0530054\ttotal: 13.1s\tremaining: 12.3s\n",
            "515:\tlearn: 0.0529119\ttotal: 13.1s\tremaining: 12.3s\n",
            "516:\tlearn: 0.0527335\ttotal: 13.1s\tremaining: 12.3s\n",
            "517:\tlearn: 0.0526308\ttotal: 13.2s\tremaining: 12.3s\n",
            "518:\tlearn: 0.0525328\ttotal: 13.2s\tremaining: 12.2s\n",
            "519:\tlearn: 0.0524605\ttotal: 13.2s\tremaining: 12.2s\n",
            "520:\tlearn: 0.0523191\ttotal: 13.2s\tremaining: 12.2s\n",
            "521:\tlearn: 0.0522045\ttotal: 13.2s\tremaining: 12.1s\n",
            "522:\tlearn: 0.0520626\ttotal: 13.3s\tremaining: 12.1s\n",
            "523:\tlearn: 0.0519329\ttotal: 13.3s\tremaining: 12.1s\n",
            "524:\tlearn: 0.0518138\ttotal: 13.3s\tremaining: 12s\n",
            "525:\tlearn: 0.0517249\ttotal: 13.3s\tremaining: 12s\n",
            "526:\tlearn: 0.0516074\ttotal: 13.3s\tremaining: 12s\n",
            "527:\tlearn: 0.0514987\ttotal: 13.4s\tremaining: 12s\n",
            "528:\tlearn: 0.0513972\ttotal: 13.4s\tremaining: 11.9s\n",
            "529:\tlearn: 0.0512604\ttotal: 13.4s\tremaining: 11.9s\n",
            "530:\tlearn: 0.0512200\ttotal: 13.4s\tremaining: 11.9s\n",
            "531:\tlearn: 0.0511425\ttotal: 13.5s\tremaining: 11.8s\n",
            "532:\tlearn: 0.0509714\ttotal: 13.5s\tremaining: 11.8s\n",
            "533:\tlearn: 0.0508158\ttotal: 13.5s\tremaining: 11.8s\n",
            "534:\tlearn: 0.0507265\ttotal: 13.5s\tremaining: 11.8s\n",
            "535:\tlearn: 0.0506474\ttotal: 13.6s\tremaining: 11.7s\n",
            "536:\tlearn: 0.0505892\ttotal: 13.6s\tremaining: 11.7s\n",
            "537:\tlearn: 0.0504593\ttotal: 13.6s\tremaining: 11.7s\n",
            "538:\tlearn: 0.0503325\ttotal: 13.6s\tremaining: 11.7s\n",
            "539:\tlearn: 0.0502007\ttotal: 13.7s\tremaining: 11.6s\n",
            "540:\tlearn: 0.0501067\ttotal: 13.7s\tremaining: 11.6s\n",
            "541:\tlearn: 0.0499580\ttotal: 13.7s\tremaining: 11.6s\n",
            "542:\tlearn: 0.0498866\ttotal: 13.8s\tremaining: 11.6s\n",
            "543:\tlearn: 0.0498213\ttotal: 13.8s\tremaining: 11.6s\n",
            "544:\tlearn: 0.0497197\ttotal: 13.8s\tremaining: 11.5s\n",
            "545:\tlearn: 0.0495889\ttotal: 13.8s\tremaining: 11.5s\n",
            "546:\tlearn: 0.0494668\ttotal: 13.8s\tremaining: 11.5s\n",
            "547:\tlearn: 0.0492762\ttotal: 13.9s\tremaining: 11.4s\n",
            "548:\tlearn: 0.0491742\ttotal: 13.9s\tremaining: 11.4s\n",
            "549:\tlearn: 0.0490642\ttotal: 13.9s\tremaining: 11.4s\n",
            "550:\tlearn: 0.0489635\ttotal: 14s\tremaining: 11.4s\n",
            "551:\tlearn: 0.0488548\ttotal: 14s\tremaining: 11.4s\n",
            "552:\tlearn: 0.0487983\ttotal: 14s\tremaining: 11.3s\n",
            "553:\tlearn: 0.0486773\ttotal: 14s\tremaining: 11.3s\n",
            "554:\tlearn: 0.0485697\ttotal: 14.1s\tremaining: 11.3s\n",
            "555:\tlearn: 0.0484471\ttotal: 14.1s\tremaining: 11.2s\n",
            "556:\tlearn: 0.0483316\ttotal: 14.1s\tremaining: 11.2s\n",
            "557:\tlearn: 0.0481877\ttotal: 14.1s\tremaining: 11.2s\n",
            "558:\tlearn: 0.0480835\ttotal: 14.1s\tremaining: 11.2s\n",
            "559:\tlearn: 0.0480028\ttotal: 14.2s\tremaining: 11.1s\n",
            "560:\tlearn: 0.0479154\ttotal: 14.2s\tremaining: 11.1s\n",
            "561:\tlearn: 0.0478363\ttotal: 14.2s\tremaining: 11.1s\n",
            "562:\tlearn: 0.0477309\ttotal: 14.3s\tremaining: 11.1s\n",
            "563:\tlearn: 0.0476793\ttotal: 14.3s\tremaining: 11s\n",
            "564:\tlearn: 0.0476137\ttotal: 14.3s\tremaining: 11s\n",
            "565:\tlearn: 0.0475332\ttotal: 14.3s\tremaining: 11s\n",
            "566:\tlearn: 0.0474609\ttotal: 14.3s\tremaining: 10.9s\n",
            "567:\tlearn: 0.0473328\ttotal: 14.3s\tremaining: 10.9s\n",
            "568:\tlearn: 0.0472345\ttotal: 14.4s\tremaining: 10.9s\n",
            "569:\tlearn: 0.0471555\ttotal: 14.4s\tremaining: 10.8s\n",
            "570:\tlearn: 0.0470843\ttotal: 14.4s\tremaining: 10.8s\n",
            "571:\tlearn: 0.0469670\ttotal: 14.4s\tremaining: 10.8s\n",
            "572:\tlearn: 0.0469034\ttotal: 14.4s\tremaining: 10.7s\n",
            "573:\tlearn: 0.0467868\ttotal: 14.4s\tremaining: 10.7s\n",
            "574:\tlearn: 0.0466417\ttotal: 14.4s\tremaining: 10.7s\n",
            "575:\tlearn: 0.0465132\ttotal: 14.4s\tremaining: 10.6s\n",
            "576:\tlearn: 0.0464156\ttotal: 14.4s\tremaining: 10.6s\n",
            "577:\tlearn: 0.0463700\ttotal: 14.5s\tremaining: 10.6s\n",
            "578:\tlearn: 0.0463266\ttotal: 14.5s\tremaining: 10.5s\n",
            "579:\tlearn: 0.0462676\ttotal: 14.5s\tremaining: 10.5s\n",
            "580:\tlearn: 0.0462110\ttotal: 14.5s\tremaining: 10.4s\n",
            "581:\tlearn: 0.0461588\ttotal: 14.5s\tremaining: 10.4s\n",
            "582:\tlearn: 0.0460518\ttotal: 14.5s\tremaining: 10.4s\n",
            "583:\tlearn: 0.0459981\ttotal: 14.5s\tremaining: 10.4s\n",
            "584:\tlearn: 0.0459341\ttotal: 14.5s\tremaining: 10.3s\n",
            "585:\tlearn: 0.0458708\ttotal: 14.6s\tremaining: 10.3s\n",
            "586:\tlearn: 0.0458048\ttotal: 14.6s\tremaining: 10.3s\n",
            "587:\tlearn: 0.0457511\ttotal: 14.6s\tremaining: 10.2s\n",
            "588:\tlearn: 0.0456841\ttotal: 14.6s\tremaining: 10.2s\n",
            "589:\tlearn: 0.0456150\ttotal: 14.6s\tremaining: 10.1s\n",
            "590:\tlearn: 0.0455678\ttotal: 14.6s\tremaining: 10.1s\n",
            "591:\tlearn: 0.0454576\ttotal: 14.6s\tremaining: 10.1s\n",
            "592:\tlearn: 0.0453803\ttotal: 14.6s\tremaining: 10s\n",
            "593:\tlearn: 0.0453070\ttotal: 14.6s\tremaining: 10s\n",
            "594:\tlearn: 0.0452218\ttotal: 14.7s\tremaining: 9.97s\n",
            "595:\tlearn: 0.0451170\ttotal: 14.7s\tremaining: 9.94s\n",
            "596:\tlearn: 0.0450550\ttotal: 14.7s\tremaining: 9.91s\n",
            "597:\tlearn: 0.0449665\ttotal: 14.7s\tremaining: 9.9s\n",
            "598:\tlearn: 0.0449314\ttotal: 14.8s\tremaining: 9.88s\n",
            "599:\tlearn: 0.0448371\ttotal: 14.8s\tremaining: 9.88s\n",
            "600:\tlearn: 0.0447764\ttotal: 14.9s\tremaining: 9.87s\n",
            "601:\tlearn: 0.0447255\ttotal: 14.9s\tremaining: 9.85s\n",
            "602:\tlearn: 0.0446188\ttotal: 14.9s\tremaining: 9.82s\n",
            "603:\tlearn: 0.0444111\ttotal: 14.9s\tremaining: 9.8s\n",
            "604:\tlearn: 0.0442664\ttotal: 15s\tremaining: 9.76s\n",
            "605:\tlearn: 0.0441679\ttotal: 15s\tremaining: 9.73s\n",
            "606:\tlearn: 0.0441179\ttotal: 15s\tremaining: 9.7s\n",
            "607:\tlearn: 0.0440895\ttotal: 15s\tremaining: 9.66s\n",
            "608:\tlearn: 0.0440360\ttotal: 15s\tremaining: 9.63s\n",
            "609:\tlearn: 0.0439480\ttotal: 15s\tremaining: 9.6s\n",
            "610:\tlearn: 0.0439021\ttotal: 15s\tremaining: 9.57s\n",
            "611:\tlearn: 0.0438105\ttotal: 15.1s\tremaining: 9.55s\n",
            "612:\tlearn: 0.0437682\ttotal: 15.1s\tremaining: 9.53s\n",
            "613:\tlearn: 0.0436748\ttotal: 15.1s\tremaining: 9.51s\n",
            "614:\tlearn: 0.0435910\ttotal: 15.1s\tremaining: 9.47s\n",
            "615:\tlearn: 0.0434831\ttotal: 15.1s\tremaining: 9.44s\n",
            "616:\tlearn: 0.0434109\ttotal: 15.2s\tremaining: 9.41s\n",
            "617:\tlearn: 0.0433638\ttotal: 15.2s\tremaining: 9.38s\n",
            "618:\tlearn: 0.0432611\ttotal: 15.2s\tremaining: 9.34s\n",
            "619:\tlearn: 0.0431803\ttotal: 15.2s\tremaining: 9.31s\n",
            "620:\tlearn: 0.0430866\ttotal: 15.2s\tremaining: 9.28s\n",
            "621:\tlearn: 0.0429956\ttotal: 15.2s\tremaining: 9.25s\n",
            "622:\tlearn: 0.0429476\ttotal: 15.3s\tremaining: 9.23s\n",
            "623:\tlearn: 0.0428845\ttotal: 15.3s\tremaining: 9.2s\n",
            "624:\tlearn: 0.0427898\ttotal: 15.3s\tremaining: 9.18s\n",
            "625:\tlearn: 0.0427332\ttotal: 15.3s\tremaining: 9.15s\n",
            "626:\tlearn: 0.0425726\ttotal: 15.3s\tremaining: 9.11s\n",
            "627:\tlearn: 0.0424813\ttotal: 15.3s\tremaining: 9.08s\n",
            "628:\tlearn: 0.0423541\ttotal: 15.3s\tremaining: 9.05s\n",
            "629:\tlearn: 0.0422932\ttotal: 15.3s\tremaining: 9.02s\n",
            "630:\tlearn: 0.0421762\ttotal: 15.4s\tremaining: 8.98s\n",
            "631:\tlearn: 0.0420988\ttotal: 15.4s\tremaining: 8.95s\n",
            "632:\tlearn: 0.0420233\ttotal: 15.4s\tremaining: 8.92s\n",
            "633:\tlearn: 0.0419745\ttotal: 15.4s\tremaining: 8.9s\n",
            "634:\tlearn: 0.0418224\ttotal: 15.4s\tremaining: 8.87s\n",
            "635:\tlearn: 0.0416711\ttotal: 15.5s\tremaining: 8.84s\n",
            "636:\tlearn: 0.0416055\ttotal: 15.5s\tremaining: 8.82s\n",
            "637:\tlearn: 0.0415420\ttotal: 15.5s\tremaining: 8.79s\n",
            "638:\tlearn: 0.0414744\ttotal: 15.5s\tremaining: 8.77s\n",
            "639:\tlearn: 0.0414192\ttotal: 15.5s\tremaining: 8.74s\n",
            "640:\tlearn: 0.0413688\ttotal: 15.6s\tremaining: 8.72s\n",
            "641:\tlearn: 0.0413158\ttotal: 15.6s\tremaining: 8.69s\n",
            "642:\tlearn: 0.0412013\ttotal: 15.6s\tremaining: 8.66s\n",
            "643:\tlearn: 0.0410933\ttotal: 15.6s\tremaining: 8.63s\n",
            "644:\tlearn: 0.0410263\ttotal: 15.6s\tremaining: 8.6s\n",
            "645:\tlearn: 0.0408454\ttotal: 15.6s\tremaining: 8.56s\n",
            "646:\tlearn: 0.0407559\ttotal: 15.6s\tremaining: 8.53s\n",
            "647:\tlearn: 0.0406156\ttotal: 15.7s\tremaining: 8.5s\n",
            "648:\tlearn: 0.0405463\ttotal: 15.7s\tremaining: 8.47s\n",
            "649:\tlearn: 0.0404375\ttotal: 15.7s\tremaining: 8.44s\n",
            "650:\tlearn: 0.0403766\ttotal: 15.7s\tremaining: 8.41s\n",
            "651:\tlearn: 0.0403432\ttotal: 15.7s\tremaining: 8.38s\n",
            "652:\tlearn: 0.0402710\ttotal: 15.7s\tremaining: 8.36s\n",
            "653:\tlearn: 0.0402319\ttotal: 15.8s\tremaining: 8.34s\n",
            "654:\tlearn: 0.0401842\ttotal: 15.8s\tremaining: 8.32s\n",
            "655:\tlearn: 0.0401453\ttotal: 15.8s\tremaining: 8.3s\n",
            "656:\tlearn: 0.0400632\ttotal: 15.9s\tremaining: 8.28s\n",
            "657:\tlearn: 0.0400139\ttotal: 15.9s\tremaining: 8.26s\n",
            "658:\tlearn: 0.0399375\ttotal: 15.9s\tremaining: 8.23s\n",
            "659:\tlearn: 0.0398781\ttotal: 15.9s\tremaining: 8.21s\n",
            "660:\tlearn: 0.0398431\ttotal: 16s\tremaining: 8.18s\n",
            "661:\tlearn: 0.0398228\ttotal: 16s\tremaining: 8.16s\n",
            "662:\tlearn: 0.0397124\ttotal: 16s\tremaining: 8.15s\n",
            "663:\tlearn: 0.0396260\ttotal: 16.1s\tremaining: 8.13s\n",
            "664:\tlearn: 0.0395281\ttotal: 16.1s\tremaining: 8.12s\n",
            "665:\tlearn: 0.0394616\ttotal: 16.1s\tremaining: 8.09s\n",
            "666:\tlearn: 0.0394221\ttotal: 16.2s\tremaining: 8.07s\n",
            "667:\tlearn: 0.0393367\ttotal: 16.2s\tremaining: 8.04s\n",
            "668:\tlearn: 0.0392084\ttotal: 16.2s\tremaining: 8.01s\n",
            "669:\tlearn: 0.0391532\ttotal: 16.2s\tremaining: 7.98s\n",
            "670:\tlearn: 0.0391178\ttotal: 16.2s\tremaining: 7.96s\n",
            "671:\tlearn: 0.0390638\ttotal: 16.3s\tremaining: 7.93s\n",
            "672:\tlearn: 0.0390078\ttotal: 16.3s\tremaining: 7.91s\n",
            "673:\tlearn: 0.0389196\ttotal: 16.3s\tremaining: 7.89s\n",
            "674:\tlearn: 0.0388564\ttotal: 16.3s\tremaining: 7.87s\n",
            "675:\tlearn: 0.0387699\ttotal: 16.4s\tremaining: 7.84s\n",
            "676:\tlearn: 0.0387269\ttotal: 16.4s\tremaining: 7.81s\n",
            "677:\tlearn: 0.0386127\ttotal: 16.4s\tremaining: 7.78s\n",
            "678:\tlearn: 0.0385122\ttotal: 16.4s\tremaining: 7.75s\n",
            "679:\tlearn: 0.0384793\ttotal: 16.4s\tremaining: 7.72s\n",
            "680:\tlearn: 0.0384050\ttotal: 16.4s\tremaining: 7.7s\n",
            "681:\tlearn: 0.0383173\ttotal: 16.5s\tremaining: 7.68s\n",
            "682:\tlearn: 0.0382725\ttotal: 16.5s\tremaining: 7.65s\n",
            "683:\tlearn: 0.0382346\ttotal: 16.5s\tremaining: 7.63s\n",
            "684:\tlearn: 0.0381683\ttotal: 16.6s\tremaining: 7.62s\n",
            "685:\tlearn: 0.0380980\ttotal: 16.6s\tremaining: 7.59s\n",
            "686:\tlearn: 0.0380344\ttotal: 16.6s\tremaining: 7.56s\n",
            "687:\tlearn: 0.0379988\ttotal: 16.6s\tremaining: 7.54s\n",
            "688:\tlearn: 0.0379205\ttotal: 16.6s\tremaining: 7.51s\n",
            "689:\tlearn: 0.0378535\ttotal: 16.7s\tremaining: 7.48s\n",
            "690:\tlearn: 0.0377744\ttotal: 16.7s\tremaining: 7.46s\n",
            "691:\tlearn: 0.0376612\ttotal: 16.7s\tremaining: 7.43s\n",
            "692:\tlearn: 0.0375988\ttotal: 16.7s\tremaining: 7.4s\n",
            "693:\tlearn: 0.0375423\ttotal: 16.7s\tremaining: 7.38s\n",
            "694:\tlearn: 0.0374840\ttotal: 16.7s\tremaining: 7.35s\n",
            "695:\tlearn: 0.0374277\ttotal: 16.8s\tremaining: 7.32s\n",
            "696:\tlearn: 0.0373431\ttotal: 16.8s\tremaining: 7.29s\n",
            "697:\tlearn: 0.0372864\ttotal: 16.8s\tremaining: 7.26s\n",
            "698:\tlearn: 0.0372149\ttotal: 16.8s\tremaining: 7.24s\n",
            "699:\tlearn: 0.0371691\ttotal: 16.8s\tremaining: 7.21s\n",
            "700:\tlearn: 0.0370718\ttotal: 16.9s\tremaining: 7.19s\n",
            "701:\tlearn: 0.0370245\ttotal: 16.9s\tremaining: 7.17s\n",
            "702:\tlearn: 0.0369900\ttotal: 16.9s\tremaining: 7.15s\n",
            "703:\tlearn: 0.0369354\ttotal: 16.9s\tremaining: 7.12s\n",
            "704:\tlearn: 0.0368754\ttotal: 17s\tremaining: 7.1s\n",
            "705:\tlearn: 0.0367880\ttotal: 17s\tremaining: 7.08s\n",
            "706:\tlearn: 0.0367533\ttotal: 17s\tremaining: 7.06s\n",
            "707:\tlearn: 0.0367093\ttotal: 17.1s\tremaining: 7.04s\n",
            "708:\tlearn: 0.0366619\ttotal: 17.1s\tremaining: 7.01s\n",
            "709:\tlearn: 0.0365952\ttotal: 17.1s\tremaining: 6.99s\n",
            "710:\tlearn: 0.0365259\ttotal: 17.1s\tremaining: 6.96s\n",
            "711:\tlearn: 0.0364716\ttotal: 17.2s\tremaining: 6.94s\n",
            "712:\tlearn: 0.0364117\ttotal: 17.2s\tremaining: 6.91s\n",
            "713:\tlearn: 0.0363636\ttotal: 17.2s\tremaining: 6.88s\n",
            "714:\tlearn: 0.0363105\ttotal: 17.2s\tremaining: 6.86s\n",
            "715:\tlearn: 0.0362531\ttotal: 17.2s\tremaining: 6.83s\n",
            "716:\tlearn: 0.0361854\ttotal: 17.3s\tremaining: 6.83s\n",
            "717:\tlearn: 0.0361122\ttotal: 17.3s\tremaining: 6.8s\n",
            "718:\tlearn: 0.0360057\ttotal: 17.4s\tremaining: 6.78s\n",
            "719:\tlearn: 0.0359549\ttotal: 17.4s\tremaining: 6.76s\n",
            "720:\tlearn: 0.0359100\ttotal: 17.4s\tremaining: 6.74s\n",
            "721:\tlearn: 0.0358452\ttotal: 17.4s\tremaining: 6.72s\n",
            "722:\tlearn: 0.0357907\ttotal: 17.5s\tremaining: 6.7s\n",
            "723:\tlearn: 0.0357387\ttotal: 17.5s\tremaining: 6.68s\n",
            "724:\tlearn: 0.0356493\ttotal: 17.5s\tremaining: 6.65s\n",
            "725:\tlearn: 0.0355445\ttotal: 17.6s\tremaining: 6.63s\n",
            "726:\tlearn: 0.0354754\ttotal: 17.6s\tremaining: 6.6s\n",
            "727:\tlearn: 0.0354399\ttotal: 17.6s\tremaining: 6.59s\n",
            "728:\tlearn: 0.0354007\ttotal: 17.7s\tremaining: 6.57s\n",
            "729:\tlearn: 0.0353304\ttotal: 17.7s\tremaining: 6.55s\n",
            "730:\tlearn: 0.0353211\ttotal: 17.7s\tremaining: 6.52s\n",
            "731:\tlearn: 0.0352686\ttotal: 17.8s\tremaining: 6.5s\n",
            "732:\tlearn: 0.0352228\ttotal: 17.8s\tremaining: 6.47s\n",
            "733:\tlearn: 0.0351915\ttotal: 17.8s\tremaining: 6.45s\n",
            "734:\tlearn: 0.0351655\ttotal: 17.8s\tremaining: 6.42s\n",
            "735:\tlearn: 0.0351016\ttotal: 17.8s\tremaining: 6.4s\n",
            "736:\tlearn: 0.0350186\ttotal: 17.9s\tremaining: 6.38s\n",
            "737:\tlearn: 0.0349512\ttotal: 17.9s\tremaining: 6.35s\n",
            "738:\tlearn: 0.0348910\ttotal: 17.9s\tremaining: 6.33s\n",
            "739:\tlearn: 0.0348604\ttotal: 17.9s\tremaining: 6.3s\n",
            "740:\tlearn: 0.0348008\ttotal: 18s\tremaining: 6.28s\n",
            "741:\tlearn: 0.0347469\ttotal: 18s\tremaining: 6.26s\n",
            "742:\tlearn: 0.0347125\ttotal: 18s\tremaining: 6.23s\n",
            "743:\tlearn: 0.0346693\ttotal: 18s\tremaining: 6.21s\n",
            "744:\tlearn: 0.0346268\ttotal: 18.1s\tremaining: 6.18s\n",
            "745:\tlearn: 0.0345842\ttotal: 18.1s\tremaining: 6.15s\n",
            "746:\tlearn: 0.0345320\ttotal: 18.1s\tremaining: 6.13s\n",
            "747:\tlearn: 0.0344372\ttotal: 18.1s\tremaining: 6.11s\n",
            "748:\tlearn: 0.0343778\ttotal: 18.1s\tremaining: 6.08s\n",
            "749:\tlearn: 0.0342192\ttotal: 18.2s\tremaining: 6.05s\n",
            "750:\tlearn: 0.0341954\ttotal: 18.2s\tremaining: 6.03s\n",
            "751:\tlearn: 0.0341360\ttotal: 18.2s\tremaining: 6s\n",
            "752:\tlearn: 0.0341041\ttotal: 18.2s\tremaining: 5.98s\n",
            "753:\tlearn: 0.0340239\ttotal: 18.3s\tremaining: 5.96s\n",
            "754:\tlearn: 0.0339496\ttotal: 18.3s\tremaining: 5.93s\n",
            "755:\tlearn: 0.0338885\ttotal: 18.3s\tremaining: 5.91s\n",
            "756:\tlearn: 0.0338568\ttotal: 18.3s\tremaining: 5.88s\n",
            "757:\tlearn: 0.0338383\ttotal: 18.4s\tremaining: 5.86s\n",
            "758:\tlearn: 0.0337790\ttotal: 18.4s\tremaining: 5.83s\n",
            "759:\tlearn: 0.0337194\ttotal: 18.4s\tremaining: 5.81s\n",
            "760:\tlearn: 0.0337096\ttotal: 18.4s\tremaining: 5.78s\n",
            "761:\tlearn: 0.0336921\ttotal: 18.4s\tremaining: 5.76s\n",
            "762:\tlearn: 0.0335957\ttotal: 18.5s\tremaining: 5.74s\n",
            "763:\tlearn: 0.0335711\ttotal: 18.5s\tremaining: 5.72s\n",
            "764:\tlearn: 0.0335167\ttotal: 18.6s\tremaining: 5.7s\n",
            "765:\tlearn: 0.0334899\ttotal: 18.6s\tremaining: 5.67s\n",
            "766:\tlearn: 0.0334602\ttotal: 18.6s\tremaining: 5.64s\n",
            "767:\tlearn: 0.0333979\ttotal: 18.6s\tremaining: 5.62s\n",
            "768:\tlearn: 0.0333598\ttotal: 18.6s\tremaining: 5.59s\n",
            "769:\tlearn: 0.0333067\ttotal: 18.6s\tremaining: 5.56s\n",
            "770:\tlearn: 0.0332790\ttotal: 18.6s\tremaining: 5.54s\n",
            "771:\tlearn: 0.0332242\ttotal: 18.7s\tremaining: 5.51s\n",
            "772:\tlearn: 0.0331690\ttotal: 18.7s\tremaining: 5.49s\n",
            "773:\tlearn: 0.0331136\ttotal: 18.7s\tremaining: 5.46s\n",
            "774:\tlearn: 0.0330619\ttotal: 18.7s\tremaining: 5.44s\n",
            "775:\tlearn: 0.0330221\ttotal: 18.8s\tremaining: 5.42s\n",
            "776:\tlearn: 0.0329667\ttotal: 18.8s\tremaining: 5.39s\n",
            "777:\tlearn: 0.0328812\ttotal: 18.8s\tremaining: 5.37s\n",
            "778:\tlearn: 0.0328180\ttotal: 18.8s\tremaining: 5.34s\n",
            "779:\tlearn: 0.0327644\ttotal: 18.9s\tremaining: 5.32s\n",
            "780:\tlearn: 0.0327283\ttotal: 18.9s\tremaining: 5.29s\n",
            "781:\tlearn: 0.0327015\ttotal: 18.9s\tremaining: 5.27s\n",
            "782:\tlearn: 0.0326217\ttotal: 18.9s\tremaining: 5.25s\n",
            "783:\tlearn: 0.0325775\ttotal: 18.9s\tremaining: 5.22s\n",
            "784:\tlearn: 0.0325552\ttotal: 19s\tremaining: 5.2s\n",
            "785:\tlearn: 0.0324789\ttotal: 19s\tremaining: 5.17s\n",
            "786:\tlearn: 0.0324315\ttotal: 19s\tremaining: 5.15s\n",
            "787:\tlearn: 0.0323756\ttotal: 19s\tremaining: 5.12s\n",
            "788:\tlearn: 0.0323521\ttotal: 19.1s\tremaining: 5.1s\n",
            "789:\tlearn: 0.0323133\ttotal: 19.1s\tremaining: 5.08s\n",
            "790:\tlearn: 0.0322535\ttotal: 19.1s\tremaining: 5.05s\n",
            "791:\tlearn: 0.0321743\ttotal: 19.1s\tremaining: 5.03s\n",
            "792:\tlearn: 0.0321180\ttotal: 19.2s\tremaining: 5s\n",
            "793:\tlearn: 0.0320385\ttotal: 19.2s\tremaining: 4.98s\n",
            "794:\tlearn: 0.0319915\ttotal: 19.2s\tremaining: 4.96s\n",
            "795:\tlearn: 0.0319215\ttotal: 19.2s\tremaining: 4.93s\n",
            "796:\tlearn: 0.0318537\ttotal: 19.3s\tremaining: 4.91s\n",
            "797:\tlearn: 0.0317850\ttotal: 19.3s\tremaining: 4.88s\n",
            "798:\tlearn: 0.0317163\ttotal: 19.3s\tremaining: 4.86s\n",
            "799:\tlearn: 0.0316819\ttotal: 19.3s\tremaining: 4.83s\n",
            "800:\tlearn: 0.0316085\ttotal: 19.4s\tremaining: 4.81s\n",
            "801:\tlearn: 0.0315890\ttotal: 19.4s\tremaining: 4.79s\n",
            "802:\tlearn: 0.0315528\ttotal: 19.4s\tremaining: 4.76s\n",
            "803:\tlearn: 0.0315241\ttotal: 19.4s\tremaining: 4.73s\n",
            "804:\tlearn: 0.0314749\ttotal: 19.4s\tremaining: 4.7s\n",
            "805:\tlearn: 0.0313777\ttotal: 19.4s\tremaining: 4.68s\n",
            "806:\tlearn: 0.0312967\ttotal: 19.4s\tremaining: 4.65s\n",
            "807:\tlearn: 0.0312401\ttotal: 19.4s\tremaining: 4.62s\n",
            "808:\tlearn: 0.0311870\ttotal: 19.5s\tremaining: 4.59s\n",
            "809:\tlearn: 0.0311511\ttotal: 19.5s\tremaining: 4.57s\n",
            "810:\tlearn: 0.0311360\ttotal: 19.5s\tremaining: 4.54s\n",
            "811:\tlearn: 0.0311010\ttotal: 19.5s\tremaining: 4.51s\n",
            "812:\tlearn: 0.0310678\ttotal: 19.5s\tremaining: 4.49s\n",
            "813:\tlearn: 0.0310388\ttotal: 19.6s\tremaining: 4.47s\n",
            "814:\tlearn: 0.0309762\ttotal: 19.6s\tremaining: 4.45s\n",
            "815:\tlearn: 0.0309322\ttotal: 19.6s\tremaining: 4.42s\n",
            "816:\tlearn: 0.0307964\ttotal: 19.6s\tremaining: 4.4s\n",
            "817:\tlearn: 0.0307408\ttotal: 19.7s\tremaining: 4.37s\n",
            "818:\tlearn: 0.0306629\ttotal: 19.7s\tremaining: 4.35s\n",
            "819:\tlearn: 0.0306127\ttotal: 19.7s\tremaining: 4.33s\n",
            "820:\tlearn: 0.0305682\ttotal: 19.7s\tremaining: 4.3s\n",
            "821:\tlearn: 0.0305244\ttotal: 19.7s\tremaining: 4.28s\n",
            "822:\tlearn: 0.0304938\ttotal: 19.8s\tremaining: 4.25s\n",
            "823:\tlearn: 0.0304166\ttotal: 19.8s\tremaining: 4.23s\n",
            "824:\tlearn: 0.0303808\ttotal: 19.8s\tremaining: 4.21s\n",
            "825:\tlearn: 0.0303175\ttotal: 19.9s\tremaining: 4.18s\n",
            "826:\tlearn: 0.0302963\ttotal: 19.9s\tremaining: 4.16s\n",
            "827:\tlearn: 0.0302265\ttotal: 19.9s\tremaining: 4.13s\n",
            "828:\tlearn: 0.0301833\ttotal: 19.9s\tremaining: 4.11s\n",
            "829:\tlearn: 0.0301508\ttotal: 19.9s\tremaining: 4.09s\n",
            "830:\tlearn: 0.0301076\ttotal: 20s\tremaining: 4.06s\n",
            "831:\tlearn: 0.0300822\ttotal: 20s\tremaining: 4.04s\n",
            "832:\tlearn: 0.0300400\ttotal: 20s\tremaining: 4.01s\n",
            "833:\tlearn: 0.0299667\ttotal: 20s\tremaining: 3.99s\n",
            "834:\tlearn: 0.0299525\ttotal: 20s\tremaining: 3.96s\n",
            "835:\tlearn: 0.0299282\ttotal: 20.1s\tremaining: 3.94s\n",
            "836:\tlearn: 0.0299082\ttotal: 20.1s\tremaining: 3.91s\n",
            "837:\tlearn: 0.0298705\ttotal: 20.1s\tremaining: 3.89s\n",
            "838:\tlearn: 0.0298290\ttotal: 20.1s\tremaining: 3.86s\n",
            "839:\tlearn: 0.0297740\ttotal: 20.2s\tremaining: 3.84s\n",
            "840:\tlearn: 0.0297054\ttotal: 20.2s\tremaining: 3.82s\n",
            "841:\tlearn: 0.0296816\ttotal: 20.2s\tremaining: 3.79s\n",
            "842:\tlearn: 0.0296230\ttotal: 20.2s\tremaining: 3.77s\n",
            "843:\tlearn: 0.0295778\ttotal: 20.3s\tremaining: 3.75s\n",
            "844:\tlearn: 0.0295107\ttotal: 20.3s\tremaining: 3.72s\n",
            "845:\tlearn: 0.0294552\ttotal: 20.3s\tremaining: 3.7s\n",
            "846:\tlearn: 0.0294082\ttotal: 20.3s\tremaining: 3.67s\n",
            "847:\tlearn: 0.0293724\ttotal: 20.4s\tremaining: 3.65s\n",
            "848:\tlearn: 0.0293173\ttotal: 20.4s\tremaining: 3.63s\n",
            "849:\tlearn: 0.0292503\ttotal: 20.4s\tremaining: 3.6s\n",
            "850:\tlearn: 0.0292265\ttotal: 20.4s\tremaining: 3.58s\n",
            "851:\tlearn: 0.0291724\ttotal: 20.5s\tremaining: 3.56s\n",
            "852:\tlearn: 0.0291463\ttotal: 20.5s\tremaining: 3.54s\n",
            "853:\tlearn: 0.0291110\ttotal: 20.5s\tremaining: 3.51s\n",
            "854:\tlearn: 0.0290729\ttotal: 20.6s\tremaining: 3.49s\n",
            "855:\tlearn: 0.0290238\ttotal: 20.6s\tremaining: 3.46s\n",
            "856:\tlearn: 0.0289557\ttotal: 20.6s\tremaining: 3.44s\n",
            "857:\tlearn: 0.0288918\ttotal: 20.6s\tremaining: 3.41s\n",
            "858:\tlearn: 0.0288399\ttotal: 20.6s\tremaining: 3.39s\n",
            "859:\tlearn: 0.0287811\ttotal: 20.7s\tremaining: 3.37s\n",
            "860:\tlearn: 0.0287234\ttotal: 20.7s\tremaining: 3.34s\n",
            "861:\tlearn: 0.0286736\ttotal: 20.7s\tremaining: 3.32s\n",
            "862:\tlearn: 0.0286249\ttotal: 20.7s\tremaining: 3.29s\n",
            "863:\tlearn: 0.0285831\ttotal: 20.8s\tremaining: 3.27s\n",
            "864:\tlearn: 0.0285442\ttotal: 20.8s\tremaining: 3.24s\n",
            "865:\tlearn: 0.0284870\ttotal: 20.8s\tremaining: 3.21s\n",
            "866:\tlearn: 0.0284433\ttotal: 20.8s\tremaining: 3.19s\n",
            "867:\tlearn: 0.0283542\ttotal: 20.8s\tremaining: 3.16s\n",
            "868:\tlearn: 0.0283351\ttotal: 20.8s\tremaining: 3.14s\n",
            "869:\tlearn: 0.0283207\ttotal: 20.9s\tremaining: 3.12s\n",
            "870:\tlearn: 0.0283025\ttotal: 20.9s\tremaining: 3.09s\n",
            "871:\tlearn: 0.0282763\ttotal: 20.9s\tremaining: 3.06s\n",
            "872:\tlearn: 0.0281952\ttotal: 20.9s\tremaining: 3.04s\n",
            "873:\tlearn: 0.0281796\ttotal: 20.9s\tremaining: 3.01s\n",
            "874:\tlearn: 0.0281523\ttotal: 20.9s\tremaining: 2.99s\n",
            "875:\tlearn: 0.0280768\ttotal: 20.9s\tremaining: 2.96s\n",
            "876:\tlearn: 0.0280508\ttotal: 20.9s\tremaining: 2.94s\n",
            "877:\tlearn: 0.0279990\ttotal: 21s\tremaining: 2.91s\n",
            "878:\tlearn: 0.0279627\ttotal: 21s\tremaining: 2.89s\n",
            "879:\tlearn: 0.0279346\ttotal: 21s\tremaining: 2.86s\n",
            "880:\tlearn: 0.0278998\ttotal: 21s\tremaining: 2.84s\n",
            "881:\tlearn: 0.0278654\ttotal: 21s\tremaining: 2.81s\n",
            "882:\tlearn: 0.0278370\ttotal: 21.1s\tremaining: 2.79s\n",
            "883:\tlearn: 0.0277885\ttotal: 21.1s\tremaining: 2.77s\n",
            "884:\tlearn: 0.0277561\ttotal: 21.1s\tremaining: 2.74s\n",
            "885:\tlearn: 0.0277262\ttotal: 21.1s\tremaining: 2.72s\n",
            "886:\tlearn: 0.0277013\ttotal: 21.1s\tremaining: 2.69s\n",
            "887:\tlearn: 0.0276833\ttotal: 21.1s\tremaining: 2.67s\n",
            "888:\tlearn: 0.0276148\ttotal: 21.2s\tremaining: 2.64s\n",
            "889:\tlearn: 0.0275833\ttotal: 21.2s\tremaining: 2.62s\n",
            "890:\tlearn: 0.0275392\ttotal: 21.2s\tremaining: 2.59s\n",
            "891:\tlearn: 0.0274927\ttotal: 21.2s\tremaining: 2.57s\n",
            "892:\tlearn: 0.0274683\ttotal: 21.2s\tremaining: 2.54s\n",
            "893:\tlearn: 0.0274303\ttotal: 21.2s\tremaining: 2.52s\n",
            "894:\tlearn: 0.0273958\ttotal: 21.3s\tremaining: 2.49s\n",
            "895:\tlearn: 0.0273455\ttotal: 21.3s\tremaining: 2.47s\n",
            "896:\tlearn: 0.0272669\ttotal: 21.3s\tremaining: 2.45s\n",
            "897:\tlearn: 0.0272411\ttotal: 21.3s\tremaining: 2.42s\n",
            "898:\tlearn: 0.0272196\ttotal: 21.4s\tremaining: 2.4s\n",
            "899:\tlearn: 0.0271930\ttotal: 21.4s\tremaining: 2.38s\n",
            "900:\tlearn: 0.0271524\ttotal: 21.4s\tremaining: 2.35s\n",
            "901:\tlearn: 0.0271380\ttotal: 21.4s\tremaining: 2.33s\n",
            "902:\tlearn: 0.0270890\ttotal: 21.5s\tremaining: 2.31s\n",
            "903:\tlearn: 0.0270543\ttotal: 21.5s\tremaining: 2.28s\n",
            "904:\tlearn: 0.0270153\ttotal: 21.5s\tremaining: 2.25s\n",
            "905:\tlearn: 0.0269611\ttotal: 21.5s\tremaining: 2.23s\n",
            "906:\tlearn: 0.0269494\ttotal: 21.5s\tremaining: 2.21s\n",
            "907:\tlearn: 0.0268863\ttotal: 21.6s\tremaining: 2.18s\n",
            "908:\tlearn: 0.0268270\ttotal: 21.6s\tremaining: 2.16s\n",
            "909:\tlearn: 0.0267644\ttotal: 21.6s\tremaining: 2.14s\n",
            "910:\tlearn: 0.0267243\ttotal: 21.6s\tremaining: 2.11s\n",
            "911:\tlearn: 0.0267010\ttotal: 21.7s\tremaining: 2.09s\n",
            "912:\tlearn: 0.0266675\ttotal: 21.7s\tremaining: 2.07s\n",
            "913:\tlearn: 0.0266376\ttotal: 21.7s\tremaining: 2.04s\n",
            "914:\tlearn: 0.0265772\ttotal: 21.7s\tremaining: 2.02s\n",
            "915:\tlearn: 0.0265538\ttotal: 21.7s\tremaining: 1.99s\n",
            "916:\tlearn: 0.0264888\ttotal: 21.7s\tremaining: 1.97s\n",
            "917:\tlearn: 0.0264299\ttotal: 21.7s\tremaining: 1.94s\n",
            "918:\tlearn: 0.0263804\ttotal: 21.7s\tremaining: 1.92s\n",
            "919:\tlearn: 0.0263535\ttotal: 21.8s\tremaining: 1.89s\n",
            "920:\tlearn: 0.0263327\ttotal: 21.8s\tremaining: 1.87s\n",
            "921:\tlearn: 0.0263121\ttotal: 21.8s\tremaining: 1.84s\n",
            "922:\tlearn: 0.0262986\ttotal: 21.8s\tremaining: 1.82s\n",
            "923:\tlearn: 0.0262454\ttotal: 21.8s\tremaining: 1.79s\n",
            "924:\tlearn: 0.0261879\ttotal: 21.8s\tremaining: 1.77s\n",
            "925:\tlearn: 0.0261519\ttotal: 21.8s\tremaining: 1.74s\n",
            "926:\tlearn: 0.0261227\ttotal: 21.9s\tremaining: 1.72s\n",
            "927:\tlearn: 0.0260853\ttotal: 21.9s\tremaining: 1.7s\n",
            "928:\tlearn: 0.0260764\ttotal: 21.9s\tremaining: 1.67s\n",
            "929:\tlearn: 0.0260445\ttotal: 21.9s\tremaining: 1.65s\n",
            "930:\tlearn: 0.0260199\ttotal: 21.9s\tremaining: 1.63s\n",
            "931:\tlearn: 0.0259882\ttotal: 22s\tremaining: 1.6s\n",
            "932:\tlearn: 0.0259677\ttotal: 22s\tremaining: 1.58s\n",
            "933:\tlearn: 0.0259623\ttotal: 22s\tremaining: 1.55s\n",
            "934:\tlearn: 0.0259256\ttotal: 22s\tremaining: 1.53s\n",
            "935:\tlearn: 0.0258767\ttotal: 22s\tremaining: 1.51s\n",
            "936:\tlearn: 0.0258549\ttotal: 22.1s\tremaining: 1.48s\n",
            "937:\tlearn: 0.0258384\ttotal: 22.1s\tremaining: 1.46s\n",
            "938:\tlearn: 0.0258103\ttotal: 22.1s\tremaining: 1.44s\n",
            "939:\tlearn: 0.0257735\ttotal: 22.2s\tremaining: 1.41s\n",
            "940:\tlearn: 0.0257526\ttotal: 22.2s\tremaining: 1.39s\n",
            "941:\tlearn: 0.0257158\ttotal: 22.2s\tremaining: 1.37s\n",
            "942:\tlearn: 0.0256481\ttotal: 22.3s\tremaining: 1.34s\n",
            "943:\tlearn: 0.0255973\ttotal: 22.3s\tremaining: 1.32s\n",
            "944:\tlearn: 0.0255417\ttotal: 22.3s\tremaining: 1.3s\n",
            "945:\tlearn: 0.0255370\ttotal: 22.3s\tremaining: 1.27s\n",
            "946:\tlearn: 0.0255248\ttotal: 22.4s\tremaining: 1.25s\n",
            "947:\tlearn: 0.0254866\ttotal: 22.4s\tremaining: 1.23s\n",
            "948:\tlearn: 0.0254217\ttotal: 22.4s\tremaining: 1.2s\n",
            "949:\tlearn: 0.0253726\ttotal: 22.4s\tremaining: 1.18s\n",
            "950:\tlearn: 0.0253381\ttotal: 22.4s\tremaining: 1.15s\n",
            "951:\tlearn: 0.0252756\ttotal: 22.4s\tremaining: 1.13s\n",
            "952:\tlearn: 0.0252251\ttotal: 22.4s\tremaining: 1.11s\n",
            "953:\tlearn: 0.0252004\ttotal: 22.4s\tremaining: 1.08s\n",
            "954:\tlearn: 0.0251699\ttotal: 22.5s\tremaining: 1.06s\n",
            "955:\tlearn: 0.0251592\ttotal: 22.5s\tremaining: 1.03s\n",
            "956:\tlearn: 0.0251261\ttotal: 22.5s\tremaining: 1.01s\n",
            "957:\tlearn: 0.0250965\ttotal: 22.5s\tremaining: 986ms\n",
            "958:\tlearn: 0.0250755\ttotal: 22.5s\tremaining: 962ms\n",
            "959:\tlearn: 0.0250213\ttotal: 22.5s\tremaining: 938ms\n",
            "960:\tlearn: 0.0249886\ttotal: 22.5s\tremaining: 915ms\n",
            "961:\tlearn: 0.0249537\ttotal: 22.6s\tremaining: 892ms\n",
            "962:\tlearn: 0.0249158\ttotal: 22.6s\tremaining: 868ms\n",
            "963:\tlearn: 0.0248726\ttotal: 22.6s\tremaining: 845ms\n",
            "964:\tlearn: 0.0248433\ttotal: 22.6s\tremaining: 821ms\n",
            "965:\tlearn: 0.0248055\ttotal: 22.7s\tremaining: 798ms\n",
            "966:\tlearn: 0.0247903\ttotal: 22.7s\tremaining: 774ms\n",
            "967:\tlearn: 0.0247614\ttotal: 22.7s\tremaining: 750ms\n",
            "968:\tlearn: 0.0247261\ttotal: 22.7s\tremaining: 727ms\n",
            "969:\tlearn: 0.0247060\ttotal: 22.8s\tremaining: 704ms\n",
            "970:\tlearn: 0.0246829\ttotal: 22.8s\tremaining: 680ms\n",
            "971:\tlearn: 0.0246515\ttotal: 22.8s\tremaining: 657ms\n",
            "972:\tlearn: 0.0246302\ttotal: 22.8s\tremaining: 633ms\n",
            "973:\tlearn: 0.0245994\ttotal: 22.8s\tremaining: 610ms\n",
            "974:\tlearn: 0.0245617\ttotal: 22.9s\tremaining: 586ms\n",
            "975:\tlearn: 0.0245210\ttotal: 22.9s\tremaining: 563ms\n",
            "976:\tlearn: 0.0244997\ttotal: 22.9s\tremaining: 539ms\n",
            "977:\tlearn: 0.0244814\ttotal: 22.9s\tremaining: 516ms\n",
            "978:\tlearn: 0.0244492\ttotal: 23s\tremaining: 492ms\n",
            "979:\tlearn: 0.0244009\ttotal: 23s\tremaining: 469ms\n",
            "980:\tlearn: 0.0243814\ttotal: 23s\tremaining: 445ms\n",
            "981:\tlearn: 0.0243543\ttotal: 23s\tremaining: 422ms\n",
            "982:\tlearn: 0.0243412\ttotal: 23s\tremaining: 399ms\n",
            "983:\tlearn: 0.0243180\ttotal: 23.1s\tremaining: 375ms\n",
            "984:\tlearn: 0.0242821\ttotal: 23.1s\tremaining: 352ms\n",
            "985:\tlearn: 0.0242275\ttotal: 23.1s\tremaining: 328ms\n",
            "986:\tlearn: 0.0242123\ttotal: 23.1s\tremaining: 305ms\n",
            "987:\tlearn: 0.0241769\ttotal: 23.2s\tremaining: 281ms\n",
            "988:\tlearn: 0.0241443\ttotal: 23.2s\tremaining: 258ms\n",
            "989:\tlearn: 0.0241258\ttotal: 23.2s\tremaining: 234ms\n",
            "990:\tlearn: 0.0240892\ttotal: 23.2s\tremaining: 211ms\n",
            "991:\tlearn: 0.0240585\ttotal: 23.2s\tremaining: 187ms\n",
            "992:\tlearn: 0.0240418\ttotal: 23.2s\tremaining: 164ms\n",
            "993:\tlearn: 0.0240168\ttotal: 23.2s\tremaining: 140ms\n",
            "994:\tlearn: 0.0239895\ttotal: 23.3s\tremaining: 117ms\n",
            "995:\tlearn: 0.0239610\ttotal: 23.3s\tremaining: 93.5ms\n",
            "996:\tlearn: 0.0239404\ttotal: 23.3s\tremaining: 70.1ms\n",
            "997:\tlearn: 0.0239174\ttotal: 23.3s\tremaining: 46.7ms\n",
            "998:\tlearn: 0.0238920\ttotal: 23.3s\tremaining: 23.4ms\n",
            "999:\tlearn: 0.0238340\ttotal: 23.3s\tremaining: 0us\n",
            "0.9836788707543008\n"
          ]
        }
      ]
    },
    {
      "cell_type": "code",
      "source": [
        "print(classification_report(val_label, pred))"
      ],
      "metadata": {
        "colab": {
          "base_uri": "https://localhost:8080/"
        },
        "id": "bakR_QxLAQzq",
        "outputId": "b1fd02c4-e2fe-489a-b5f6-da8742b314d6"
      },
      "execution_count": null,
      "outputs": [
        {
          "output_type": "stream",
          "name": "stdout",
          "text": [
            "              precision    recall  f1-score   support\n",
            "\n",
            "           0       0.99      0.98      0.98      1135\n",
            "           1       0.98      0.99      0.98      1132\n",
            "\n",
            "    accuracy                           0.98      2267\n",
            "   macro avg       0.98      0.98      0.98      2267\n",
            "weighted avg       0.98      0.98      0.98      2267\n",
            "\n"
          ]
        }
      ]
    },
    {
      "cell_type": "code",
      "source": [
        "confusion_matrix(val_label, pred)"
      ],
      "metadata": {
        "colab": {
          "base_uri": "https://localhost:8080/"
        },
        "id": "cMNj-i_tHFcr",
        "outputId": "4272c8aa-b434-4fdb-9169-e621cac17542"
      },
      "execution_count": null,
      "outputs": [
        {
          "output_type": "execute_result",
          "data": {
            "text/plain": [
              "array([[1110,   25],\n",
              "       [  12, 1120]])"
            ]
          },
          "metadata": {},
          "execution_count": 75
        }
      ]
    },
    {
      "cell_type": "code",
      "source": [
        "plot_confusion_matrix(val_label, pred)"
      ],
      "metadata": {
        "colab": {
          "base_uri": "https://localhost:8080/"
        },
        "id": "VBe-0x3CI77o",
        "outputId": "94d9313f-56a0-4795-97e7-bacacf0e7eb3"
      },
      "execution_count": null,
      "outputs": [
        {
          "output_type": "display_data",
          "data": {
            "text/plain": [
              "<Figure size 432x288 with 2 Axes>"
            ],
            "image/png": "[encoded data removed]"
          },
          "metadata": {}
        }
      ]
    },
    {
      "cell_type": "code",
      "source": [
        "# Predicting the test set\n",
        "test_pred = cat_clf.predict(test_feat)\n",
        "print(classification_report(test_label, test_pred))"
      ],
      "metadata": {
        "colab": {
          "base_uri": "https://localhost:8080/"
        },
        "id": "Lq8N-6VwuuIN",
        "outputId": "83415339-e6e4-4b45-a04a-796e1faf1ea3"
      },
      "execution_count": null,
      "outputs": [
        {
          "output_type": "stream",
          "name": "stdout",
          "text": [
            "              precision    recall  f1-score   support\n",
            "\n",
            "           0       0.99      0.98      0.98      1420\n",
            "           1       0.98      0.99      0.98      1414\n",
            "\n",
            "    accuracy                           0.98      2834\n",
            "   macro avg       0.98      0.98      0.98      2834\n",
            "weighted avg       0.98      0.98      0.98      2834\n",
            "\n"
          ]
        }
      ]
    },
    {
      "cell_type": "code",
      "source": [
        "plot_confusion_matrix(test_label, test_pred)"
      ],
      "metadata": {
        "colab": {
          "base_uri": "https://localhost:8080/"
        },
        "id": "3o7ySji-uuLe",
        "outputId": "ce5a955c-964b-40cb-c263-57a485f7b662"
      },
      "execution_count": null,
      "outputs": [
        {
          "output_type": "display_data",
          "data": {
            "text/plain": [
              "<Figure size 432x288 with 2 Axes>"
            ],
            "image/png": "[encoded data removed]"
          },
          "metadata": {}
        }
      ]
    },
    {
      "cell_type": "code",
      "source": [
        "# GradientBoosting\n",
        "\n",
        "gb_clf = GradientBoostingClassifier()\n",
        "gb_clf.fit(train_feat, train_label)\n",
        "pred = gb_clf.predict(val_feat)\n",
        "accuracy = accuracy_score(val_label, pred)\n",
        "print(accuracy)"
      ],
      "metadata": {
        "colab": {
          "base_uri": "https://localhost:8080/"
        },
        "id": "wPPM2yGvAZqi",
        "outputId": "436f9d3c-c502-4c04-dca7-9aea1a9ae4f2"
      },
      "execution_count": null,
      "outputs": [
        {
          "output_type": "stream",
          "name": "stdout",
          "text": [
            "0.9633877370974857\n"
          ]
        }
      ]
    },
    {
      "cell_type": "code",
      "source": [
        "print(classification_report(val_label, pred))"
      ],
      "metadata": {
        "colab": {
          "base_uri": "https://localhost:8080/"
        },
        "id": "elgEXQ4-Asw1",
        "outputId": "a7c1fc14-f44c-4827-9211-f660acf30f1c"
      },
      "execution_count": null,
      "outputs": [
        {
          "output_type": "stream",
          "name": "stdout",
          "text": [
            "              precision    recall  f1-score   support\n",
            "\n",
            "           0       0.97      0.96      0.96      1135\n",
            "           1       0.96      0.97      0.96      1132\n",
            "\n",
            "    accuracy                           0.96      2267\n",
            "   macro avg       0.96      0.96      0.96      2267\n",
            "weighted avg       0.96      0.96      0.96      2267\n",
            "\n"
          ]
        }
      ]
    },
    {
      "cell_type": "code",
      "source": [
        "confusion_matrix(val_label, pred)"
      ],
      "metadata": {
        "colab": {
          "base_uri": "https://localhost:8080/"
        },
        "id": "YUDwkWZYHHEp",
        "outputId": "68fabc24-f9f4-4330-ed4f-f56971783a18"
      },
      "execution_count": null,
      "outputs": [
        {
          "output_type": "execute_result",
          "data": {
            "text/plain": [
              "array([[1088,   47],\n",
              "       [  36, 1096]])"
            ]
          },
          "metadata": {},
          "execution_count": 81
        }
      ]
    },
    {
      "cell_type": "code",
      "source": [
        "plot_confusion_matrix(val_label, pred)"
      ],
      "metadata": {
        "colab": {
          "base_uri": "https://localhost:8080/"
        },
        "id": "JAlS7C5wH6lB",
        "outputId": "9f86f43d-fd2a-4ec5-9ffd-a911f198604d"
      },
      "execution_count": null,
      "outputs": [
        {
          "output_type": "display_data",
          "data": {
            "text/plain": [
              "<Figure size 432x288 with 2 Axes>"
            ],
            "image/png": "[encoded data removed]"
          },
          "metadata": {}
        }
      ]
    },
    {
      "cell_type": "code",
      "source": [
        "# Predicting the test set\n",
        "test_pred = gb_clf.predict(test_feat)\n",
        "print(classification_report(test_label, test_pred))"
      ],
      "metadata": {
        "colab": {
          "base_uri": "https://localhost:8080/"
        },
        "id": "G-xyPtALH92_",
        "outputId": "89429aae-dacd-4c1c-d151-63c3f33079b7"
      },
      "execution_count": null,
      "outputs": [
        {
          "output_type": "stream",
          "name": "stdout",
          "text": [
            "              precision    recall  f1-score   support\n",
            "\n",
            "           0       0.97      0.95      0.96      1420\n",
            "           1       0.95      0.97      0.96      1414\n",
            "\n",
            "    accuracy                           0.96      2834\n",
            "   macro avg       0.96      0.96      0.96      2834\n",
            "weighted avg       0.96      0.96      0.96      2834\n",
            "\n"
          ]
        }
      ]
    },
    {
      "cell_type": "code",
      "source": [
        "plot_confusion_matrix(test_label, test_pred)"
      ],
      "metadata": {
        "colab": {
          "base_uri": "https://localhost:8080/"
        },
        "id": "C9VnNWFHvHkg",
        "outputId": "3a84e9ef-546a-423b-88f7-0fc64d92f130"
      },
      "execution_count": null,
      "outputs": [
        {
          "output_type": "display_data",
          "data": {
            "text/plain": [
              "<Figure size 432x288 with 2 Axes>"
            ],
            "image/png": "[encoded data removed]"
          },
          "metadata": {}
        }
      ]
    },
    {
      "cell_type": "code",
      "source": [
        "print('The best model is CatBoostClassifier')"
      ],
      "metadata": {
        "colab": {
          "base_uri": "https://localhost:8080/"
        },
        "id": "OvVJ7DN1vMzR",
        "outputId": "5c9f466a-5bf5-46ad-be5e-2201c32b54cf"
      },
      "execution_count": null,
      "outputs": [
        {
          "output_type": "stream",
          "name": "stdout",
          "text": [
            "The best model is CatBoostClassifier\n"
          ]
        }
      ]
    },
    {
      "cell_type": "code",
      "source": [],
      "metadata": {
        "id": "5C7YoHbLvleO"
      },
      "execution_count": null,
      "outputs": []
    }
  ]
}